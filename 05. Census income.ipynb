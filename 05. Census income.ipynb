{
 "cells": [
  {
   "cell_type": "markdown",
   "id": "15159311",
   "metadata": {},
   "source": [
    "### Census Income Project\n",
    "#### Problem Statement:\n",
    "\n",
    "\n",
    "This data was extracted from the 1994 Census bureau database by Ronny Kohavi and Barry Becker (Data Mining and Visualization, Silicon Graphics). A set of reasonably clean records was extracted using the following conditions: ((AAGE>16) && (AGI>100) && (AFNLWGT>1) && (HRSWK>0)). **The prediction task is to determine whether a person makes over $50K a year**.\n",
    "\n",
    "\n",
    "\n",
    "#### Description of fnlwgt (final weight)\n",
    "\n",
    "The weights on the Current Population Survey (CPS) files are controlled to independent estimates of the civilian non-institutional population of the US. These are prepared monthly for us by Population Division here at the Census Bureau. We use 3 sets of controls. These are:\n",
    "\n",
    "A single cell estimate of the population 16+ for each state.\n",
    "\n",
    "Controls for Hispanic Origin by age and sex.\n",
    "\n",
    "Controls by Race, age and sex.\n",
    "\n",
    "We use all three sets of controls in our weighting program and \"rake\" through them 6 times so that by the end we come back to all the controls we used. The term estimate refers to population totals derived from CPS by creating \"weighted tallies\" of any specified socio-economic characteristics of the population. People with similar demographic characteristics should have similar weights. There is one important caveat to remember about this statement. That is that since the CPS sample is actually a collection of 51 state samples, each with its own probability of selection, the statement only applies within state.\n",
    "\n",
    "\n"
   ]
  },
  {
   "cell_type": "code",
   "execution_count": 283,
   "id": "12d140d4",
   "metadata": {},
   "outputs": [],
   "source": [
    "import pandas as pd\n",
    "import numpy as np\n",
    "from sklearn.model_selection import train_test_split\n",
    "import matplotlib.pyplot as plt\n",
    "from matplotlib import pyplot as plt\n",
    "%matplotlib inline\n",
    "import seaborn as sns\n",
    "\n",
    "import warnings\n",
    "warnings.filterwarnings('ignore')"
   ]
  },
  {
   "cell_type": "code",
   "execution_count": 189,
   "id": "d00e80a4",
   "metadata": {},
   "outputs": [],
   "source": [
    "df = pd.read_csv('https://raw.githubusercontent.com/dsrscientist/dataset1/master/census_income.csv')"
   ]
  },
  {
   "cell_type": "code",
   "execution_count": 190,
   "id": "a4cedabd",
   "metadata": {},
   "outputs": [
    {
     "data": {
      "text/html": [
       "<div>\n",
       "<style scoped>\n",
       "    .dataframe tbody tr th:only-of-type {\n",
       "        vertical-align: middle;\n",
       "    }\n",
       "\n",
       "    .dataframe tbody tr th {\n",
       "        vertical-align: top;\n",
       "    }\n",
       "\n",
       "    .dataframe thead th {\n",
       "        text-align: right;\n",
       "    }\n",
       "</style>\n",
       "<table border=\"1\" class=\"dataframe\">\n",
       "  <thead>\n",
       "    <tr style=\"text-align: right;\">\n",
       "      <th></th>\n",
       "      <th>Age</th>\n",
       "      <th>Workclass</th>\n",
       "      <th>Fnlwgt</th>\n",
       "      <th>Education</th>\n",
       "      <th>Education_num</th>\n",
       "      <th>Marital_status</th>\n",
       "      <th>Occupation</th>\n",
       "      <th>Relationship</th>\n",
       "      <th>Race</th>\n",
       "      <th>Sex</th>\n",
       "      <th>Capital_gain</th>\n",
       "      <th>Capital_loss</th>\n",
       "      <th>Hours_per_week</th>\n",
       "      <th>Native_country</th>\n",
       "      <th>Income</th>\n",
       "    </tr>\n",
       "  </thead>\n",
       "  <tbody>\n",
       "    <tr>\n",
       "      <th>0</th>\n",
       "      <td>50</td>\n",
       "      <td>Self-emp-not-inc</td>\n",
       "      <td>83311</td>\n",
       "      <td>Bachelors</td>\n",
       "      <td>13</td>\n",
       "      <td>Married-civ-spouse</td>\n",
       "      <td>Exec-managerial</td>\n",
       "      <td>Husband</td>\n",
       "      <td>White</td>\n",
       "      <td>Male</td>\n",
       "      <td>0</td>\n",
       "      <td>0</td>\n",
       "      <td>13</td>\n",
       "      <td>United-States</td>\n",
       "      <td>&lt;=50K</td>\n",
       "    </tr>\n",
       "    <tr>\n",
       "      <th>1</th>\n",
       "      <td>38</td>\n",
       "      <td>Private</td>\n",
       "      <td>215646</td>\n",
       "      <td>HS-grad</td>\n",
       "      <td>9</td>\n",
       "      <td>Divorced</td>\n",
       "      <td>Handlers-cleaners</td>\n",
       "      <td>Not-in-family</td>\n",
       "      <td>White</td>\n",
       "      <td>Male</td>\n",
       "      <td>0</td>\n",
       "      <td>0</td>\n",
       "      <td>40</td>\n",
       "      <td>United-States</td>\n",
       "      <td>&lt;=50K</td>\n",
       "    </tr>\n",
       "    <tr>\n",
       "      <th>2</th>\n",
       "      <td>53</td>\n",
       "      <td>Private</td>\n",
       "      <td>234721</td>\n",
       "      <td>11th</td>\n",
       "      <td>7</td>\n",
       "      <td>Married-civ-spouse</td>\n",
       "      <td>Handlers-cleaners</td>\n",
       "      <td>Husband</td>\n",
       "      <td>Black</td>\n",
       "      <td>Male</td>\n",
       "      <td>0</td>\n",
       "      <td>0</td>\n",
       "      <td>40</td>\n",
       "      <td>United-States</td>\n",
       "      <td>&lt;=50K</td>\n",
       "    </tr>\n",
       "    <tr>\n",
       "      <th>3</th>\n",
       "      <td>28</td>\n",
       "      <td>Private</td>\n",
       "      <td>338409</td>\n",
       "      <td>Bachelors</td>\n",
       "      <td>13</td>\n",
       "      <td>Married-civ-spouse</td>\n",
       "      <td>Prof-specialty</td>\n",
       "      <td>Wife</td>\n",
       "      <td>Black</td>\n",
       "      <td>Female</td>\n",
       "      <td>0</td>\n",
       "      <td>0</td>\n",
       "      <td>40</td>\n",
       "      <td>Cuba</td>\n",
       "      <td>&lt;=50K</td>\n",
       "    </tr>\n",
       "    <tr>\n",
       "      <th>4</th>\n",
       "      <td>37</td>\n",
       "      <td>Private</td>\n",
       "      <td>284582</td>\n",
       "      <td>Masters</td>\n",
       "      <td>14</td>\n",
       "      <td>Married-civ-spouse</td>\n",
       "      <td>Exec-managerial</td>\n",
       "      <td>Wife</td>\n",
       "      <td>White</td>\n",
       "      <td>Female</td>\n",
       "      <td>0</td>\n",
       "      <td>0</td>\n",
       "      <td>40</td>\n",
       "      <td>United-States</td>\n",
       "      <td>&lt;=50K</td>\n",
       "    </tr>\n",
       "    <tr>\n",
       "      <th>...</th>\n",
       "      <td>...</td>\n",
       "      <td>...</td>\n",
       "      <td>...</td>\n",
       "      <td>...</td>\n",
       "      <td>...</td>\n",
       "      <td>...</td>\n",
       "      <td>...</td>\n",
       "      <td>...</td>\n",
       "      <td>...</td>\n",
       "      <td>...</td>\n",
       "      <td>...</td>\n",
       "      <td>...</td>\n",
       "      <td>...</td>\n",
       "      <td>...</td>\n",
       "      <td>...</td>\n",
       "    </tr>\n",
       "    <tr>\n",
       "      <th>32555</th>\n",
       "      <td>27</td>\n",
       "      <td>Private</td>\n",
       "      <td>257302</td>\n",
       "      <td>Assoc-acdm</td>\n",
       "      <td>12</td>\n",
       "      <td>Married-civ-spouse</td>\n",
       "      <td>Tech-support</td>\n",
       "      <td>Wife</td>\n",
       "      <td>White</td>\n",
       "      <td>Female</td>\n",
       "      <td>0</td>\n",
       "      <td>0</td>\n",
       "      <td>38</td>\n",
       "      <td>United-States</td>\n",
       "      <td>&lt;=50K</td>\n",
       "    </tr>\n",
       "    <tr>\n",
       "      <th>32556</th>\n",
       "      <td>40</td>\n",
       "      <td>Private</td>\n",
       "      <td>154374</td>\n",
       "      <td>HS-grad</td>\n",
       "      <td>9</td>\n",
       "      <td>Married-civ-spouse</td>\n",
       "      <td>Machine-op-inspct</td>\n",
       "      <td>Husband</td>\n",
       "      <td>White</td>\n",
       "      <td>Male</td>\n",
       "      <td>0</td>\n",
       "      <td>0</td>\n",
       "      <td>40</td>\n",
       "      <td>United-States</td>\n",
       "      <td>&gt;50K</td>\n",
       "    </tr>\n",
       "    <tr>\n",
       "      <th>32557</th>\n",
       "      <td>58</td>\n",
       "      <td>Private</td>\n",
       "      <td>151910</td>\n",
       "      <td>HS-grad</td>\n",
       "      <td>9</td>\n",
       "      <td>Widowed</td>\n",
       "      <td>Adm-clerical</td>\n",
       "      <td>Unmarried</td>\n",
       "      <td>White</td>\n",
       "      <td>Female</td>\n",
       "      <td>0</td>\n",
       "      <td>0</td>\n",
       "      <td>40</td>\n",
       "      <td>United-States</td>\n",
       "      <td>&lt;=50K</td>\n",
       "    </tr>\n",
       "    <tr>\n",
       "      <th>32558</th>\n",
       "      <td>22</td>\n",
       "      <td>Private</td>\n",
       "      <td>201490</td>\n",
       "      <td>HS-grad</td>\n",
       "      <td>9</td>\n",
       "      <td>Never-married</td>\n",
       "      <td>Adm-clerical</td>\n",
       "      <td>Own-child</td>\n",
       "      <td>White</td>\n",
       "      <td>Male</td>\n",
       "      <td>0</td>\n",
       "      <td>0</td>\n",
       "      <td>20</td>\n",
       "      <td>United-States</td>\n",
       "      <td>&lt;=50K</td>\n",
       "    </tr>\n",
       "    <tr>\n",
       "      <th>32559</th>\n",
       "      <td>52</td>\n",
       "      <td>Self-emp-inc</td>\n",
       "      <td>287927</td>\n",
       "      <td>HS-grad</td>\n",
       "      <td>9</td>\n",
       "      <td>Married-civ-spouse</td>\n",
       "      <td>Exec-managerial</td>\n",
       "      <td>Wife</td>\n",
       "      <td>White</td>\n",
       "      <td>Female</td>\n",
       "      <td>15024</td>\n",
       "      <td>0</td>\n",
       "      <td>40</td>\n",
       "      <td>United-States</td>\n",
       "      <td>&gt;50K</td>\n",
       "    </tr>\n",
       "  </tbody>\n",
       "</table>\n",
       "<p>32560 rows × 15 columns</p>\n",
       "</div>"
      ],
      "text/plain": [
       "       Age          Workclass  Fnlwgt    Education  Education_num  \\\n",
       "0       50   Self-emp-not-inc   83311    Bachelors             13   \n",
       "1       38            Private  215646      HS-grad              9   \n",
       "2       53            Private  234721         11th              7   \n",
       "3       28            Private  338409    Bachelors             13   \n",
       "4       37            Private  284582      Masters             14   \n",
       "...    ...                ...     ...          ...            ...   \n",
       "32555   27            Private  257302   Assoc-acdm             12   \n",
       "32556   40            Private  154374      HS-grad              9   \n",
       "32557   58            Private  151910      HS-grad              9   \n",
       "32558   22            Private  201490      HS-grad              9   \n",
       "32559   52       Self-emp-inc  287927      HS-grad              9   \n",
       "\n",
       "            Marital_status          Occupation    Relationship    Race  \\\n",
       "0       Married-civ-spouse     Exec-managerial         Husband   White   \n",
       "1                 Divorced   Handlers-cleaners   Not-in-family   White   \n",
       "2       Married-civ-spouse   Handlers-cleaners         Husband   Black   \n",
       "3       Married-civ-spouse      Prof-specialty            Wife   Black   \n",
       "4       Married-civ-spouse     Exec-managerial            Wife   White   \n",
       "...                    ...                 ...             ...     ...   \n",
       "32555   Married-civ-spouse        Tech-support            Wife   White   \n",
       "32556   Married-civ-spouse   Machine-op-inspct         Husband   White   \n",
       "32557              Widowed        Adm-clerical       Unmarried   White   \n",
       "32558        Never-married        Adm-clerical       Own-child   White   \n",
       "32559   Married-civ-spouse     Exec-managerial            Wife   White   \n",
       "\n",
       "           Sex  Capital_gain  Capital_loss  Hours_per_week  Native_country  \\\n",
       "0         Male             0             0              13   United-States   \n",
       "1         Male             0             0              40   United-States   \n",
       "2         Male             0             0              40   United-States   \n",
       "3       Female             0             0              40            Cuba   \n",
       "4       Female             0             0              40   United-States   \n",
       "...        ...           ...           ...             ...             ...   \n",
       "32555   Female             0             0              38   United-States   \n",
       "32556     Male             0             0              40   United-States   \n",
       "32557   Female             0             0              40   United-States   \n",
       "32558     Male             0             0              20   United-States   \n",
       "32559   Female         15024             0              40   United-States   \n",
       "\n",
       "       Income  \n",
       "0       <=50K  \n",
       "1       <=50K  \n",
       "2       <=50K  \n",
       "3       <=50K  \n",
       "4       <=50K  \n",
       "...       ...  \n",
       "32555   <=50K  \n",
       "32556    >50K  \n",
       "32557   <=50K  \n",
       "32558   <=50K  \n",
       "32559    >50K  \n",
       "\n",
       "[32560 rows x 15 columns]"
      ]
     },
     "execution_count": 190,
     "metadata": {},
     "output_type": "execute_result"
    }
   ],
   "source": [
    "df"
   ]
  },
  {
   "cell_type": "code",
   "execution_count": 191,
   "id": "37b42534",
   "metadata": {},
   "outputs": [
    {
     "data": {
      "text/html": [
       "<div>\n",
       "<style scoped>\n",
       "    .dataframe tbody tr th:only-of-type {\n",
       "        vertical-align: middle;\n",
       "    }\n",
       "\n",
       "    .dataframe tbody tr th {\n",
       "        vertical-align: top;\n",
       "    }\n",
       "\n",
       "    .dataframe thead th {\n",
       "        text-align: right;\n",
       "    }\n",
       "</style>\n",
       "<table border=\"1\" class=\"dataframe\">\n",
       "  <thead>\n",
       "    <tr style=\"text-align: right;\">\n",
       "      <th></th>\n",
       "      <th>Age</th>\n",
       "      <th>Fnlwgt</th>\n",
       "      <th>Education_num</th>\n",
       "      <th>Capital_gain</th>\n",
       "      <th>Capital_loss</th>\n",
       "      <th>Hours_per_week</th>\n",
       "    </tr>\n",
       "  </thead>\n",
       "  <tbody>\n",
       "    <tr>\n",
       "      <th>count</th>\n",
       "      <td>32560.000000</td>\n",
       "      <td>3.256000e+04</td>\n",
       "      <td>32560.000000</td>\n",
       "      <td>32560.000000</td>\n",
       "      <td>32560.000000</td>\n",
       "      <td>32560.000000</td>\n",
       "    </tr>\n",
       "    <tr>\n",
       "      <th>mean</th>\n",
       "      <td>38.581634</td>\n",
       "      <td>1.897818e+05</td>\n",
       "      <td>10.080590</td>\n",
       "      <td>1077.615172</td>\n",
       "      <td>87.306511</td>\n",
       "      <td>40.437469</td>\n",
       "    </tr>\n",
       "    <tr>\n",
       "      <th>std</th>\n",
       "      <td>13.640642</td>\n",
       "      <td>1.055498e+05</td>\n",
       "      <td>2.572709</td>\n",
       "      <td>7385.402999</td>\n",
       "      <td>402.966116</td>\n",
       "      <td>12.347618</td>\n",
       "    </tr>\n",
       "    <tr>\n",
       "      <th>min</th>\n",
       "      <td>17.000000</td>\n",
       "      <td>1.228500e+04</td>\n",
       "      <td>1.000000</td>\n",
       "      <td>0.000000</td>\n",
       "      <td>0.000000</td>\n",
       "      <td>1.000000</td>\n",
       "    </tr>\n",
       "    <tr>\n",
       "      <th>25%</th>\n",
       "      <td>28.000000</td>\n",
       "      <td>1.178315e+05</td>\n",
       "      <td>9.000000</td>\n",
       "      <td>0.000000</td>\n",
       "      <td>0.000000</td>\n",
       "      <td>40.000000</td>\n",
       "    </tr>\n",
       "    <tr>\n",
       "      <th>50%</th>\n",
       "      <td>37.000000</td>\n",
       "      <td>1.783630e+05</td>\n",
       "      <td>10.000000</td>\n",
       "      <td>0.000000</td>\n",
       "      <td>0.000000</td>\n",
       "      <td>40.000000</td>\n",
       "    </tr>\n",
       "    <tr>\n",
       "      <th>75%</th>\n",
       "      <td>48.000000</td>\n",
       "      <td>2.370545e+05</td>\n",
       "      <td>12.000000</td>\n",
       "      <td>0.000000</td>\n",
       "      <td>0.000000</td>\n",
       "      <td>45.000000</td>\n",
       "    </tr>\n",
       "    <tr>\n",
       "      <th>max</th>\n",
       "      <td>90.000000</td>\n",
       "      <td>1.484705e+06</td>\n",
       "      <td>16.000000</td>\n",
       "      <td>99999.000000</td>\n",
       "      <td>4356.000000</td>\n",
       "      <td>99.000000</td>\n",
       "    </tr>\n",
       "  </tbody>\n",
       "</table>\n",
       "</div>"
      ],
      "text/plain": [
       "                Age        Fnlwgt  Education_num  Capital_gain  Capital_loss  \\\n",
       "count  32560.000000  3.256000e+04   32560.000000  32560.000000  32560.000000   \n",
       "mean      38.581634  1.897818e+05      10.080590   1077.615172     87.306511   \n",
       "std       13.640642  1.055498e+05       2.572709   7385.402999    402.966116   \n",
       "min       17.000000  1.228500e+04       1.000000      0.000000      0.000000   \n",
       "25%       28.000000  1.178315e+05       9.000000      0.000000      0.000000   \n",
       "50%       37.000000  1.783630e+05      10.000000      0.000000      0.000000   \n",
       "75%       48.000000  2.370545e+05      12.000000      0.000000      0.000000   \n",
       "max       90.000000  1.484705e+06      16.000000  99999.000000   4356.000000   \n",
       "\n",
       "       Hours_per_week  \n",
       "count    32560.000000  \n",
       "mean        40.437469  \n",
       "std         12.347618  \n",
       "min          1.000000  \n",
       "25%         40.000000  \n",
       "50%         40.000000  \n",
       "75%         45.000000  \n",
       "max         99.000000  "
      ]
     },
     "execution_count": 191,
     "metadata": {},
     "output_type": "execute_result"
    }
   ],
   "source": [
    "df.describe()"
   ]
  },
  {
   "cell_type": "code",
   "execution_count": 192,
   "id": "e03084bd",
   "metadata": {},
   "outputs": [
    {
     "name": "stdout",
     "output_type": "stream",
     "text": [
      "<class 'pandas.core.frame.DataFrame'>\n",
      "RangeIndex: 32560 entries, 0 to 32559\n",
      "Data columns (total 15 columns):\n",
      " #   Column          Non-Null Count  Dtype \n",
      "---  ------          --------------  ----- \n",
      " 0   Age             32560 non-null  int64 \n",
      " 1   Workclass       32560 non-null  object\n",
      " 2   Fnlwgt          32560 non-null  int64 \n",
      " 3   Education       32560 non-null  object\n",
      " 4   Education_num   32560 non-null  int64 \n",
      " 5   Marital_status  32560 non-null  object\n",
      " 6   Occupation      32560 non-null  object\n",
      " 7   Relationship    32560 non-null  object\n",
      " 8   Race            32560 non-null  object\n",
      " 9   Sex             32560 non-null  object\n",
      " 10  Capital_gain    32560 non-null  int64 \n",
      " 11  Capital_loss    32560 non-null  int64 \n",
      " 12  Hours_per_week  32560 non-null  int64 \n",
      " 13  Native_country  32560 non-null  object\n",
      " 14  Income          32560 non-null  object\n",
      "dtypes: int64(6), object(9)\n",
      "memory usage: 3.7+ MB\n"
     ]
    }
   ],
   "source": [
    "df.info()"
   ]
  },
  {
   "cell_type": "markdown",
   "id": "629fc9f8",
   "metadata": {},
   "source": [
    "**Checking what are the categories in theese columns**"
   ]
  },
  {
   "cell_type": "code",
   "execution_count": 193,
   "id": "c3563ba6",
   "metadata": {},
   "outputs": [
    {
     "data": {
      "text/plain": [
       " HS-grad         10501\n",
       " Some-college     7291\n",
       " Bachelors        5354\n",
       " Masters          1723\n",
       " Assoc-voc        1382\n",
       " 11th             1175\n",
       " Assoc-acdm       1067\n",
       " 10th              933\n",
       " 7th-8th           646\n",
       " Prof-school       576\n",
       " 9th               514\n",
       " 12th              433\n",
       " Doctorate         413\n",
       " 5th-6th           333\n",
       " 1st-4th           168\n",
       " Preschool          51\n",
       "Name: Education, dtype: int64"
      ]
     },
     "execution_count": 193,
     "metadata": {},
     "output_type": "execute_result"
    }
   ],
   "source": [
    "df['Education'].value_counts()"
   ]
  },
  {
   "cell_type": "code",
   "execution_count": 194,
   "id": "f000c260",
   "metadata": {},
   "outputs": [
    {
     "data": {
      "text/plain": [
       "array([' Bachelors', ' HS-grad', ' 11th', ' Masters', ' 9th',\n",
       "       ' Some-college', ' Assoc-acdm', ' Assoc-voc', ' 7th-8th',\n",
       "       ' Doctorate', ' Prof-school', ' 5th-6th', ' 10th', ' 1st-4th',\n",
       "       ' Preschool', ' 12th'], dtype=object)"
      ]
     },
     "execution_count": 194,
     "metadata": {},
     "output_type": "execute_result"
    }
   ],
   "source": [
    "df['Education'].unique()"
   ]
  },
  {
   "cell_type": "code",
   "execution_count": 195,
   "id": "b7579ad4",
   "metadata": {},
   "outputs": [],
   "source": [
    "Edu =  [' Preschool',' 1st-4th',' 5th-6th',' 7th-8th',  ' 9th', ' 10th', ' 11th', \n",
    "        ' 12th', ' HS-grad',' Prof-school', ' Assoc-voc', ' Assoc-acdm',\n",
    "       ' Some-college',' Bachelors', ' Masters', ' Doctorate',]       "
   ]
  },
  {
   "cell_type": "markdown",
   "id": "db33b13f",
   "metadata": {},
   "source": [
    "**Concert the Education in Numerical**"
   ]
  },
  {
   "cell_type": "code",
   "execution_count": 196,
   "id": "51349aa6",
   "metadata": {},
   "outputs": [],
   "source": [
    "from sklearn.preprocessing import OrdinalEncoder"
   ]
  },
  {
   "cell_type": "code",
   "execution_count": 197,
   "id": "86f3ba79",
   "metadata": {},
   "outputs": [],
   "source": [
    "Ordi = OrdinalEncoder(categories=[Edu])"
   ]
  },
  {
   "cell_type": "code",
   "execution_count": 198,
   "id": "0985411d",
   "metadata": {},
   "outputs": [
    {
     "data": {
      "text/plain": [
       "OrdinalEncoder(categories=[[' Preschool', ' 1st-4th', ' 5th-6th', ' 7th-8th',\n",
       "                            ' 9th', ' 10th', ' 11th', ' 12th', ' HS-grad',\n",
       "                            ' Prof-school', ' Assoc-voc', ' Assoc-acdm',\n",
       "                            ' Some-college', ' Bachelors', ' Masters',\n",
       "                            ' Doctorate']])"
      ]
     },
     "execution_count": 198,
     "metadata": {},
     "output_type": "execute_result"
    }
   ],
   "source": [
    "Ordi.fit(df[['Education']])"
   ]
  },
  {
   "cell_type": "code",
   "execution_count": 202,
   "id": "40406d56",
   "metadata": {},
   "outputs": [
    {
     "data": {
      "text/plain": [
       "array([[13.],\n",
       "       [ 8.],\n",
       "       [ 6.],\n",
       "       ...,\n",
       "       [ 8.],\n",
       "       [ 8.],\n",
       "       [ 8.]])"
      ]
     },
     "execution_count": 202,
     "metadata": {},
     "output_type": "execute_result"
    }
   ],
   "source": [
    "orno = OrdinalEncoder(categories= [[' Preschool', ' 1st-4th', ' 5th-6th', ' 7th-8th',\n",
    "                            ' 9th', ' 10th', ' 11th', ' 12th', ' HS-grad',\n",
    "                            ' Prof-school', ' Assoc-voc', ' Assoc-acdm',\n",
    "                            ' Some-college', ' Bachelors', ' Masters',\n",
    "                            ' Doctorate']])\n",
    "\n",
    "\n",
    "dfi = orno.fit_transform(df[['Education']])\n",
    "dfi"
   ]
  },
  {
   "cell_type": "markdown",
   "id": "f2f022f6",
   "metadata": {},
   "source": [
    "**Orverride Education content column wiht codes**"
   ]
  },
  {
   "cell_type": "code",
   "execution_count": 203,
   "id": "a360b4f1",
   "metadata": {},
   "outputs": [],
   "source": [
    "df['Education'] = dfi"
   ]
  },
  {
   "cell_type": "code",
   "execution_count": 204,
   "id": "f548a160",
   "metadata": {},
   "outputs": [
    {
     "data": {
      "text/html": [
       "<div>\n",
       "<style scoped>\n",
       "    .dataframe tbody tr th:only-of-type {\n",
       "        vertical-align: middle;\n",
       "    }\n",
       "\n",
       "    .dataframe tbody tr th {\n",
       "        vertical-align: top;\n",
       "    }\n",
       "\n",
       "    .dataframe thead th {\n",
       "        text-align: right;\n",
       "    }\n",
       "</style>\n",
       "<table border=\"1\" class=\"dataframe\">\n",
       "  <thead>\n",
       "    <tr style=\"text-align: right;\">\n",
       "      <th></th>\n",
       "      <th>Age</th>\n",
       "      <th>Workclass</th>\n",
       "      <th>Fnlwgt</th>\n",
       "      <th>Education</th>\n",
       "      <th>Education_num</th>\n",
       "      <th>Marital_status</th>\n",
       "      <th>Occupation</th>\n",
       "      <th>Relationship</th>\n",
       "      <th>Race</th>\n",
       "      <th>Sex</th>\n",
       "      <th>Capital_gain</th>\n",
       "      <th>Capital_loss</th>\n",
       "      <th>Hours_per_week</th>\n",
       "      <th>Native_country</th>\n",
       "      <th>Income</th>\n",
       "    </tr>\n",
       "  </thead>\n",
       "  <tbody>\n",
       "    <tr>\n",
       "      <th>0</th>\n",
       "      <td>50</td>\n",
       "      <td>Self-emp-not-inc</td>\n",
       "      <td>83311</td>\n",
       "      <td>13.0</td>\n",
       "      <td>13</td>\n",
       "      <td>Married-civ-spouse</td>\n",
       "      <td>Exec-managerial</td>\n",
       "      <td>Husband</td>\n",
       "      <td>White</td>\n",
       "      <td>Male</td>\n",
       "      <td>0</td>\n",
       "      <td>0</td>\n",
       "      <td>13</td>\n",
       "      <td>United-States</td>\n",
       "      <td>&lt;=50K</td>\n",
       "    </tr>\n",
       "    <tr>\n",
       "      <th>1</th>\n",
       "      <td>38</td>\n",
       "      <td>Private</td>\n",
       "      <td>215646</td>\n",
       "      <td>8.0</td>\n",
       "      <td>9</td>\n",
       "      <td>Divorced</td>\n",
       "      <td>Handlers-cleaners</td>\n",
       "      <td>Not-in-family</td>\n",
       "      <td>White</td>\n",
       "      <td>Male</td>\n",
       "      <td>0</td>\n",
       "      <td>0</td>\n",
       "      <td>40</td>\n",
       "      <td>United-States</td>\n",
       "      <td>&lt;=50K</td>\n",
       "    </tr>\n",
       "    <tr>\n",
       "      <th>2</th>\n",
       "      <td>53</td>\n",
       "      <td>Private</td>\n",
       "      <td>234721</td>\n",
       "      <td>6.0</td>\n",
       "      <td>7</td>\n",
       "      <td>Married-civ-spouse</td>\n",
       "      <td>Handlers-cleaners</td>\n",
       "      <td>Husband</td>\n",
       "      <td>Black</td>\n",
       "      <td>Male</td>\n",
       "      <td>0</td>\n",
       "      <td>0</td>\n",
       "      <td>40</td>\n",
       "      <td>United-States</td>\n",
       "      <td>&lt;=50K</td>\n",
       "    </tr>\n",
       "    <tr>\n",
       "      <th>3</th>\n",
       "      <td>28</td>\n",
       "      <td>Private</td>\n",
       "      <td>338409</td>\n",
       "      <td>13.0</td>\n",
       "      <td>13</td>\n",
       "      <td>Married-civ-spouse</td>\n",
       "      <td>Prof-specialty</td>\n",
       "      <td>Wife</td>\n",
       "      <td>Black</td>\n",
       "      <td>Female</td>\n",
       "      <td>0</td>\n",
       "      <td>0</td>\n",
       "      <td>40</td>\n",
       "      <td>Cuba</td>\n",
       "      <td>&lt;=50K</td>\n",
       "    </tr>\n",
       "    <tr>\n",
       "      <th>4</th>\n",
       "      <td>37</td>\n",
       "      <td>Private</td>\n",
       "      <td>284582</td>\n",
       "      <td>14.0</td>\n",
       "      <td>14</td>\n",
       "      <td>Married-civ-spouse</td>\n",
       "      <td>Exec-managerial</td>\n",
       "      <td>Wife</td>\n",
       "      <td>White</td>\n",
       "      <td>Female</td>\n",
       "      <td>0</td>\n",
       "      <td>0</td>\n",
       "      <td>40</td>\n",
       "      <td>United-States</td>\n",
       "      <td>&lt;=50K</td>\n",
       "    </tr>\n",
       "    <tr>\n",
       "      <th>...</th>\n",
       "      <td>...</td>\n",
       "      <td>...</td>\n",
       "      <td>...</td>\n",
       "      <td>...</td>\n",
       "      <td>...</td>\n",
       "      <td>...</td>\n",
       "      <td>...</td>\n",
       "      <td>...</td>\n",
       "      <td>...</td>\n",
       "      <td>...</td>\n",
       "      <td>...</td>\n",
       "      <td>...</td>\n",
       "      <td>...</td>\n",
       "      <td>...</td>\n",
       "      <td>...</td>\n",
       "    </tr>\n",
       "    <tr>\n",
       "      <th>32555</th>\n",
       "      <td>27</td>\n",
       "      <td>Private</td>\n",
       "      <td>257302</td>\n",
       "      <td>11.0</td>\n",
       "      <td>12</td>\n",
       "      <td>Married-civ-spouse</td>\n",
       "      <td>Tech-support</td>\n",
       "      <td>Wife</td>\n",
       "      <td>White</td>\n",
       "      <td>Female</td>\n",
       "      <td>0</td>\n",
       "      <td>0</td>\n",
       "      <td>38</td>\n",
       "      <td>United-States</td>\n",
       "      <td>&lt;=50K</td>\n",
       "    </tr>\n",
       "    <tr>\n",
       "      <th>32556</th>\n",
       "      <td>40</td>\n",
       "      <td>Private</td>\n",
       "      <td>154374</td>\n",
       "      <td>8.0</td>\n",
       "      <td>9</td>\n",
       "      <td>Married-civ-spouse</td>\n",
       "      <td>Machine-op-inspct</td>\n",
       "      <td>Husband</td>\n",
       "      <td>White</td>\n",
       "      <td>Male</td>\n",
       "      <td>0</td>\n",
       "      <td>0</td>\n",
       "      <td>40</td>\n",
       "      <td>United-States</td>\n",
       "      <td>&gt;50K</td>\n",
       "    </tr>\n",
       "    <tr>\n",
       "      <th>32557</th>\n",
       "      <td>58</td>\n",
       "      <td>Private</td>\n",
       "      <td>151910</td>\n",
       "      <td>8.0</td>\n",
       "      <td>9</td>\n",
       "      <td>Widowed</td>\n",
       "      <td>Adm-clerical</td>\n",
       "      <td>Unmarried</td>\n",
       "      <td>White</td>\n",
       "      <td>Female</td>\n",
       "      <td>0</td>\n",
       "      <td>0</td>\n",
       "      <td>40</td>\n",
       "      <td>United-States</td>\n",
       "      <td>&lt;=50K</td>\n",
       "    </tr>\n",
       "    <tr>\n",
       "      <th>32558</th>\n",
       "      <td>22</td>\n",
       "      <td>Private</td>\n",
       "      <td>201490</td>\n",
       "      <td>8.0</td>\n",
       "      <td>9</td>\n",
       "      <td>Never-married</td>\n",
       "      <td>Adm-clerical</td>\n",
       "      <td>Own-child</td>\n",
       "      <td>White</td>\n",
       "      <td>Male</td>\n",
       "      <td>0</td>\n",
       "      <td>0</td>\n",
       "      <td>20</td>\n",
       "      <td>United-States</td>\n",
       "      <td>&lt;=50K</td>\n",
       "    </tr>\n",
       "    <tr>\n",
       "      <th>32559</th>\n",
       "      <td>52</td>\n",
       "      <td>Self-emp-inc</td>\n",
       "      <td>287927</td>\n",
       "      <td>8.0</td>\n",
       "      <td>9</td>\n",
       "      <td>Married-civ-spouse</td>\n",
       "      <td>Exec-managerial</td>\n",
       "      <td>Wife</td>\n",
       "      <td>White</td>\n",
       "      <td>Female</td>\n",
       "      <td>15024</td>\n",
       "      <td>0</td>\n",
       "      <td>40</td>\n",
       "      <td>United-States</td>\n",
       "      <td>&gt;50K</td>\n",
       "    </tr>\n",
       "  </tbody>\n",
       "</table>\n",
       "<p>32560 rows × 15 columns</p>\n",
       "</div>"
      ],
      "text/plain": [
       "       Age          Workclass  Fnlwgt  Education  Education_num  \\\n",
       "0       50   Self-emp-not-inc   83311       13.0             13   \n",
       "1       38            Private  215646        8.0              9   \n",
       "2       53            Private  234721        6.0              7   \n",
       "3       28            Private  338409       13.0             13   \n",
       "4       37            Private  284582       14.0             14   \n",
       "...    ...                ...     ...        ...            ...   \n",
       "32555   27            Private  257302       11.0             12   \n",
       "32556   40            Private  154374        8.0              9   \n",
       "32557   58            Private  151910        8.0              9   \n",
       "32558   22            Private  201490        8.0              9   \n",
       "32559   52       Self-emp-inc  287927        8.0              9   \n",
       "\n",
       "            Marital_status          Occupation    Relationship    Race  \\\n",
       "0       Married-civ-spouse     Exec-managerial         Husband   White   \n",
       "1                 Divorced   Handlers-cleaners   Not-in-family   White   \n",
       "2       Married-civ-spouse   Handlers-cleaners         Husband   Black   \n",
       "3       Married-civ-spouse      Prof-specialty            Wife   Black   \n",
       "4       Married-civ-spouse     Exec-managerial            Wife   White   \n",
       "...                    ...                 ...             ...     ...   \n",
       "32555   Married-civ-spouse        Tech-support            Wife   White   \n",
       "32556   Married-civ-spouse   Machine-op-inspct         Husband   White   \n",
       "32557              Widowed        Adm-clerical       Unmarried   White   \n",
       "32558        Never-married        Adm-clerical       Own-child   White   \n",
       "32559   Married-civ-spouse     Exec-managerial            Wife   White   \n",
       "\n",
       "           Sex  Capital_gain  Capital_loss  Hours_per_week  Native_country  \\\n",
       "0         Male             0             0              13   United-States   \n",
       "1         Male             0             0              40   United-States   \n",
       "2         Male             0             0              40   United-States   \n",
       "3       Female             0             0              40            Cuba   \n",
       "4       Female             0             0              40   United-States   \n",
       "...        ...           ...           ...             ...             ...   \n",
       "32555   Female             0             0              38   United-States   \n",
       "32556     Male             0             0              40   United-States   \n",
       "32557   Female             0             0              40   United-States   \n",
       "32558     Male             0             0              20   United-States   \n",
       "32559   Female         15024             0              40   United-States   \n",
       "\n",
       "       Income  \n",
       "0       <=50K  \n",
       "1       <=50K  \n",
       "2       <=50K  \n",
       "3       <=50K  \n",
       "4       <=50K  \n",
       "...       ...  \n",
       "32555   <=50K  \n",
       "32556    >50K  \n",
       "32557   <=50K  \n",
       "32558   <=50K  \n",
       "32559    >50K  \n",
       "\n",
       "[32560 rows x 15 columns]"
      ]
     },
     "execution_count": 204,
     "metadata": {},
     "output_type": "execute_result"
    }
   ],
   "source": [
    "df"
   ]
  },
  {
   "cell_type": "code",
   "execution_count": 205,
   "id": "5b92bafb",
   "metadata": {},
   "outputs": [
    {
     "data": {
      "text/plain": [
       " United-States                 29169\n",
       " Mexico                          643\n",
       " ?                               583\n",
       " Philippines                     198\n",
       " Germany                         137\n",
       " Canada                          121\n",
       " Puerto-Rico                     114\n",
       " El-Salvador                     106\n",
       " India                           100\n",
       " Cuba                             95\n",
       " England                          90\n",
       " Jamaica                          81\n",
       " South                            80\n",
       " China                            75\n",
       " Italy                            73\n",
       " Dominican-Republic               70\n",
       " Vietnam                          67\n",
       " Guatemala                        64\n",
       " Japan                            62\n",
       " Poland                           60\n",
       " Columbia                         59\n",
       " Taiwan                           51\n",
       " Haiti                            44\n",
       " Iran                             43\n",
       " Portugal                         37\n",
       " Nicaragua                        34\n",
       " Peru                             31\n",
       " France                           29\n",
       " Greece                           29\n",
       " Ecuador                          28\n",
       " Ireland                          24\n",
       " Hong                             20\n",
       " Trinadad&Tobago                  19\n",
       " Cambodia                         19\n",
       " Laos                             18\n",
       " Thailand                         18\n",
       " Yugoslavia                       16\n",
       " Outlying-US(Guam-USVI-etc)       14\n",
       " Hungary                          13\n",
       " Honduras                         13\n",
       " Scotland                         12\n",
       " Holand-Netherlands                1\n",
       "Name: Native_country, dtype: int64"
      ]
     },
     "execution_count": 205,
     "metadata": {},
     "output_type": "execute_result"
    }
   ],
   "source": [
    "df['Native_country'].value_counts()\n",
    "\n",
    "\n",
    "# 583 are missing"
   ]
  },
  {
   "cell_type": "code",
   "execution_count": 206,
   "id": "121c7680",
   "metadata": {},
   "outputs": [
    {
     "data": {
      "text/plain": [
       " Private             22696\n",
       " Self-emp-not-inc     2541\n",
       " Local-gov            2093\n",
       " ?                    1836\n",
       " State-gov            1297\n",
       " Self-emp-inc         1116\n",
       " Federal-gov           960\n",
       " Without-pay            14\n",
       " Never-worked            7\n",
       "Name: Workclass, dtype: int64"
      ]
     },
     "execution_count": 206,
     "metadata": {},
     "output_type": "execute_result"
    }
   ],
   "source": [
    "df['Workclass'].value_counts()\n",
    "\n",
    "# 1836 are missing"
   ]
  },
  {
   "cell_type": "code",
   "execution_count": 207,
   "id": "a0aaa020",
   "metadata": {},
   "outputs": [
    {
     "data": {
      "text/plain": [
       " Married-civ-spouse       14976\n",
       " Never-married            10682\n",
       " Divorced                  4443\n",
       " Separated                 1025\n",
       " Widowed                    993\n",
       " Married-spouse-absent      418\n",
       " Married-AF-spouse           23\n",
       "Name: Marital_status, dtype: int64"
      ]
     },
     "execution_count": 207,
     "metadata": {},
     "output_type": "execute_result"
    }
   ],
   "source": [
    "df['Marital_status'].value_counts()"
   ]
  },
  {
   "cell_type": "code",
   "execution_count": 208,
   "id": "bc616fcd",
   "metadata": {},
   "outputs": [
    {
     "data": {
      "text/plain": [
       " Husband           13193\n",
       " Not-in-family      8304\n",
       " Own-child          5068\n",
       " Unmarried          3446\n",
       " Wife               1568\n",
       " Other-relative      981\n",
       "Name: Relationship, dtype: int64"
      ]
     },
     "execution_count": 208,
     "metadata": {},
     "output_type": "execute_result"
    }
   ],
   "source": [
    "df['Relationship'].value_counts()"
   ]
  },
  {
   "cell_type": "code",
   "execution_count": 209,
   "id": "4b67b5ff",
   "metadata": {},
   "outputs": [
    {
     "data": {
      "text/plain": [
       " Male      21789\n",
       " Female    10771\n",
       "Name: Sex, dtype: int64"
      ]
     },
     "execution_count": 209,
     "metadata": {},
     "output_type": "execute_result"
    }
   ],
   "source": [
    "df['Sex'].value_counts()"
   ]
  },
  {
   "cell_type": "code",
   "execution_count": 210,
   "id": "f3f98e62",
   "metadata": {},
   "outputs": [
    {
     "data": {
      "text/plain": [
       " White                 27815\n",
       " Black                  3124\n",
       " Asian-Pac-Islander     1039\n",
       " Amer-Indian-Eskimo      311\n",
       " Other                   271\n",
       "Name: Race, dtype: int64"
      ]
     },
     "execution_count": 210,
     "metadata": {},
     "output_type": "execute_result"
    }
   ],
   "source": [
    "df['Race'].value_counts()"
   ]
  },
  {
   "cell_type": "code",
   "execution_count": 211,
   "id": "a6c08157",
   "metadata": {},
   "outputs": [
    {
     "data": {
      "text/plain": [
       " <=50K    24719\n",
       " >50K      7841\n",
       "Name: Income, dtype: int64"
      ]
     },
     "execution_count": 211,
     "metadata": {},
     "output_type": "execute_result"
    }
   ],
   "source": [
    "df['Income'].value_counts()"
   ]
  },
  {
   "cell_type": "code",
   "execution_count": 212,
   "id": "52e47dc2",
   "metadata": {},
   "outputs": [
    {
     "data": {
      "text/plain": [
       " Prof-specialty       4140\n",
       " Craft-repair         4099\n",
       " Exec-managerial      4066\n",
       " Adm-clerical         3769\n",
       " Sales                3650\n",
       " Other-service        3295\n",
       " Machine-op-inspct    2002\n",
       " ?                    1843\n",
       " Transport-moving     1597\n",
       " Handlers-cleaners    1370\n",
       " Farming-fishing       994\n",
       " Tech-support          928\n",
       " Protective-serv       649\n",
       " Priv-house-serv       149\n",
       " Armed-Forces            9\n",
       "Name: Occupation, dtype: int64"
      ]
     },
     "execution_count": 212,
     "metadata": {},
     "output_type": "execute_result"
    }
   ],
   "source": [
    "df['Occupation'].value_counts()\n",
    "\n",
    "# 1843 Missing value"
   ]
  },
  {
   "cell_type": "code",
   "execution_count": 215,
   "id": "143077f2",
   "metadata": {},
   "outputs": [
    {
     "data": {
      "text/html": [
       "<div>\n",
       "<style scoped>\n",
       "    .dataframe tbody tr th:only-of-type {\n",
       "        vertical-align: middle;\n",
       "    }\n",
       "\n",
       "    .dataframe tbody tr th {\n",
       "        vertical-align: top;\n",
       "    }\n",
       "\n",
       "    .dataframe thead th {\n",
       "        text-align: right;\n",
       "    }\n",
       "</style>\n",
       "<table border=\"1\" class=\"dataframe\">\n",
       "  <thead>\n",
       "    <tr style=\"text-align: right;\">\n",
       "      <th></th>\n",
       "      <th>Age</th>\n",
       "      <th>Workclass</th>\n",
       "      <th>Fnlwgt</th>\n",
       "      <th>Education</th>\n",
       "      <th>Education_num</th>\n",
       "      <th>Marital_status</th>\n",
       "      <th>Occupation</th>\n",
       "      <th>Relationship</th>\n",
       "      <th>Race</th>\n",
       "      <th>Sex</th>\n",
       "      <th>Capital_gain</th>\n",
       "      <th>Capital_loss</th>\n",
       "      <th>Hours_per_week</th>\n",
       "      <th>Native_country</th>\n",
       "      <th>Income</th>\n",
       "    </tr>\n",
       "  </thead>\n",
       "  <tbody>\n",
       "    <tr>\n",
       "      <th>0</th>\n",
       "      <td>50</td>\n",
       "      <td>Self-emp-not-inc</td>\n",
       "      <td>83311</td>\n",
       "      <td>13.0</td>\n",
       "      <td>13</td>\n",
       "      <td>Married-civ-spouse</td>\n",
       "      <td>Exec-managerial</td>\n",
       "      <td>Husband</td>\n",
       "      <td>White</td>\n",
       "      <td>Male</td>\n",
       "      <td>0</td>\n",
       "      <td>0</td>\n",
       "      <td>13</td>\n",
       "      <td>United-States</td>\n",
       "      <td>&lt;=50K</td>\n",
       "    </tr>\n",
       "    <tr>\n",
       "      <th>1</th>\n",
       "      <td>38</td>\n",
       "      <td>Private</td>\n",
       "      <td>215646</td>\n",
       "      <td>8.0</td>\n",
       "      <td>9</td>\n",
       "      <td>Divorced</td>\n",
       "      <td>Handlers-cleaners</td>\n",
       "      <td>Not-in-family</td>\n",
       "      <td>White</td>\n",
       "      <td>Male</td>\n",
       "      <td>0</td>\n",
       "      <td>0</td>\n",
       "      <td>40</td>\n",
       "      <td>United-States</td>\n",
       "      <td>&lt;=50K</td>\n",
       "    </tr>\n",
       "    <tr>\n",
       "      <th>2</th>\n",
       "      <td>53</td>\n",
       "      <td>Private</td>\n",
       "      <td>234721</td>\n",
       "      <td>6.0</td>\n",
       "      <td>7</td>\n",
       "      <td>Married-civ-spouse</td>\n",
       "      <td>Handlers-cleaners</td>\n",
       "      <td>Husband</td>\n",
       "      <td>Black</td>\n",
       "      <td>Male</td>\n",
       "      <td>0</td>\n",
       "      <td>0</td>\n",
       "      <td>40</td>\n",
       "      <td>United-States</td>\n",
       "      <td>&lt;=50K</td>\n",
       "    </tr>\n",
       "    <tr>\n",
       "      <th>3</th>\n",
       "      <td>28</td>\n",
       "      <td>Private</td>\n",
       "      <td>338409</td>\n",
       "      <td>13.0</td>\n",
       "      <td>13</td>\n",
       "      <td>Married-civ-spouse</td>\n",
       "      <td>Prof-specialty</td>\n",
       "      <td>Wife</td>\n",
       "      <td>Black</td>\n",
       "      <td>Female</td>\n",
       "      <td>0</td>\n",
       "      <td>0</td>\n",
       "      <td>40</td>\n",
       "      <td>Cuba</td>\n",
       "      <td>&lt;=50K</td>\n",
       "    </tr>\n",
       "    <tr>\n",
       "      <th>4</th>\n",
       "      <td>37</td>\n",
       "      <td>Private</td>\n",
       "      <td>284582</td>\n",
       "      <td>14.0</td>\n",
       "      <td>14</td>\n",
       "      <td>Married-civ-spouse</td>\n",
       "      <td>Exec-managerial</td>\n",
       "      <td>Wife</td>\n",
       "      <td>White</td>\n",
       "      <td>Female</td>\n",
       "      <td>0</td>\n",
       "      <td>0</td>\n",
       "      <td>40</td>\n",
       "      <td>United-States</td>\n",
       "      <td>&lt;=50K</td>\n",
       "    </tr>\n",
       "    <tr>\n",
       "      <th>...</th>\n",
       "      <td>...</td>\n",
       "      <td>...</td>\n",
       "      <td>...</td>\n",
       "      <td>...</td>\n",
       "      <td>...</td>\n",
       "      <td>...</td>\n",
       "      <td>...</td>\n",
       "      <td>...</td>\n",
       "      <td>...</td>\n",
       "      <td>...</td>\n",
       "      <td>...</td>\n",
       "      <td>...</td>\n",
       "      <td>...</td>\n",
       "      <td>...</td>\n",
       "      <td>...</td>\n",
       "    </tr>\n",
       "    <tr>\n",
       "      <th>32555</th>\n",
       "      <td>27</td>\n",
       "      <td>Private</td>\n",
       "      <td>257302</td>\n",
       "      <td>11.0</td>\n",
       "      <td>12</td>\n",
       "      <td>Married-civ-spouse</td>\n",
       "      <td>Tech-support</td>\n",
       "      <td>Wife</td>\n",
       "      <td>White</td>\n",
       "      <td>Female</td>\n",
       "      <td>0</td>\n",
       "      <td>0</td>\n",
       "      <td>38</td>\n",
       "      <td>United-States</td>\n",
       "      <td>&lt;=50K</td>\n",
       "    </tr>\n",
       "    <tr>\n",
       "      <th>32556</th>\n",
       "      <td>40</td>\n",
       "      <td>Private</td>\n",
       "      <td>154374</td>\n",
       "      <td>8.0</td>\n",
       "      <td>9</td>\n",
       "      <td>Married-civ-spouse</td>\n",
       "      <td>Machine-op-inspct</td>\n",
       "      <td>Husband</td>\n",
       "      <td>White</td>\n",
       "      <td>Male</td>\n",
       "      <td>0</td>\n",
       "      <td>0</td>\n",
       "      <td>40</td>\n",
       "      <td>United-States</td>\n",
       "      <td>&gt;50K</td>\n",
       "    </tr>\n",
       "    <tr>\n",
       "      <th>32557</th>\n",
       "      <td>58</td>\n",
       "      <td>Private</td>\n",
       "      <td>151910</td>\n",
       "      <td>8.0</td>\n",
       "      <td>9</td>\n",
       "      <td>Widowed</td>\n",
       "      <td>Adm-clerical</td>\n",
       "      <td>Unmarried</td>\n",
       "      <td>White</td>\n",
       "      <td>Female</td>\n",
       "      <td>0</td>\n",
       "      <td>0</td>\n",
       "      <td>40</td>\n",
       "      <td>United-States</td>\n",
       "      <td>&lt;=50K</td>\n",
       "    </tr>\n",
       "    <tr>\n",
       "      <th>32558</th>\n",
       "      <td>22</td>\n",
       "      <td>Private</td>\n",
       "      <td>201490</td>\n",
       "      <td>8.0</td>\n",
       "      <td>9</td>\n",
       "      <td>Never-married</td>\n",
       "      <td>Adm-clerical</td>\n",
       "      <td>Own-child</td>\n",
       "      <td>White</td>\n",
       "      <td>Male</td>\n",
       "      <td>0</td>\n",
       "      <td>0</td>\n",
       "      <td>20</td>\n",
       "      <td>United-States</td>\n",
       "      <td>&lt;=50K</td>\n",
       "    </tr>\n",
       "    <tr>\n",
       "      <th>32559</th>\n",
       "      <td>52</td>\n",
       "      <td>Self-emp-inc</td>\n",
       "      <td>287927</td>\n",
       "      <td>8.0</td>\n",
       "      <td>9</td>\n",
       "      <td>Married-civ-spouse</td>\n",
       "      <td>Exec-managerial</td>\n",
       "      <td>Wife</td>\n",
       "      <td>White</td>\n",
       "      <td>Female</td>\n",
       "      <td>15024</td>\n",
       "      <td>0</td>\n",
       "      <td>40</td>\n",
       "      <td>United-States</td>\n",
       "      <td>&gt;50K</td>\n",
       "    </tr>\n",
       "  </tbody>\n",
       "</table>\n",
       "<p>32560 rows × 15 columns</p>\n",
       "</div>"
      ],
      "text/plain": [
       "       Age          Workclass  Fnlwgt  Education  Education_num  \\\n",
       "0       50   Self-emp-not-inc   83311       13.0             13   \n",
       "1       38            Private  215646        8.0              9   \n",
       "2       53            Private  234721        6.0              7   \n",
       "3       28            Private  338409       13.0             13   \n",
       "4       37            Private  284582       14.0             14   \n",
       "...    ...                ...     ...        ...            ...   \n",
       "32555   27            Private  257302       11.0             12   \n",
       "32556   40            Private  154374        8.0              9   \n",
       "32557   58            Private  151910        8.0              9   \n",
       "32558   22            Private  201490        8.0              9   \n",
       "32559   52       Self-emp-inc  287927        8.0              9   \n",
       "\n",
       "            Marital_status          Occupation    Relationship    Race  \\\n",
       "0       Married-civ-spouse     Exec-managerial         Husband   White   \n",
       "1                 Divorced   Handlers-cleaners   Not-in-family   White   \n",
       "2       Married-civ-spouse   Handlers-cleaners         Husband   Black   \n",
       "3       Married-civ-spouse      Prof-specialty            Wife   Black   \n",
       "4       Married-civ-spouse     Exec-managerial            Wife   White   \n",
       "...                    ...                 ...             ...     ...   \n",
       "32555   Married-civ-spouse        Tech-support            Wife   White   \n",
       "32556   Married-civ-spouse   Machine-op-inspct         Husband   White   \n",
       "32557              Widowed        Adm-clerical       Unmarried   White   \n",
       "32558        Never-married        Adm-clerical       Own-child   White   \n",
       "32559   Married-civ-spouse     Exec-managerial            Wife   White   \n",
       "\n",
       "           Sex  Capital_gain  Capital_loss  Hours_per_week  Native_country  \\\n",
       "0         Male             0             0              13   United-States   \n",
       "1         Male             0             0              40   United-States   \n",
       "2         Male             0             0              40   United-States   \n",
       "3       Female             0             0              40            Cuba   \n",
       "4       Female             0             0              40   United-States   \n",
       "...        ...           ...           ...             ...             ...   \n",
       "32555   Female             0             0              38   United-States   \n",
       "32556     Male             0             0              40   United-States   \n",
       "32557   Female             0             0              40   United-States   \n",
       "32558     Male             0             0              20   United-States   \n",
       "32559   Female         15024             0              40   United-States   \n",
       "\n",
       "       Income  \n",
       "0       <=50K  \n",
       "1       <=50K  \n",
       "2       <=50K  \n",
       "3       <=50K  \n",
       "4       <=50K  \n",
       "...       ...  \n",
       "32555   <=50K  \n",
       "32556    >50K  \n",
       "32557   <=50K  \n",
       "32558   <=50K  \n",
       "32559    >50K  \n",
       "\n",
       "[32560 rows x 15 columns]"
      ]
     },
     "execution_count": 215,
     "metadata": {},
     "output_type": "execute_result"
    }
   ],
   "source": [
    "df"
   ]
  },
  {
   "cell_type": "markdown",
   "id": "1fe1caca",
   "metadata": {},
   "source": [
    "**CLubbing the categories with the most suitable similar category**"
   ]
  },
  {
   "cell_type": "code",
   "execution_count": 216,
   "id": "8dac24c1",
   "metadata": {},
   "outputs": [
    {
     "data": {
      "text/plain": [
       "<bound method IndexOpsMixin.value_counts of 0               Married\n",
       "1             Separated\n",
       "2               Married\n",
       "3               Married\n",
       "4               Married\n",
       "              ...      \n",
       "32555           Married\n",
       "32556           Married\n",
       "32557           Widowed\n",
       "32558     Never-married\n",
       "32559           Married\n",
       "Name: Marital_status, Length: 32560, dtype: object>"
      ]
     },
     "execution_count": 216,
     "metadata": {},
     "output_type": "execute_result"
    }
   ],
   "source": [
    "# replace elements in list\n",
    "\n",
    "\n",
    "df['Marital_status'].replace(\n",
    "    to_replace=['Married-spouse-absent','Married-civ-spouse','Married-AF-spouse'],\n",
    "    value='Married',\n",
    "    inplace=True,\n",
    "    regex=True,\n",
    "    method='pad',\n",
    ")\n",
    "\n",
    "\n",
    "df['Marital_status'].replace(\n",
    "    to_replace= ['Separated','Divorced'],\n",
    "    value= 'Separated',\n",
    "    inplace= True,\n",
    "    regex=True,\n",
    "    method='pad',\n",
    ")\n",
    "\n",
    "df['Marital_status'].value_counts"
   ]
  },
  {
   "cell_type": "code",
   "execution_count": 217,
   "id": "e59e17c7",
   "metadata": {},
   "outputs": [
    {
     "data": {
      "text/html": [
       "<div>\n",
       "<style scoped>\n",
       "    .dataframe tbody tr th:only-of-type {\n",
       "        vertical-align: middle;\n",
       "    }\n",
       "\n",
       "    .dataframe tbody tr th {\n",
       "        vertical-align: top;\n",
       "    }\n",
       "\n",
       "    .dataframe thead th {\n",
       "        text-align: right;\n",
       "    }\n",
       "</style>\n",
       "<table border=\"1\" class=\"dataframe\">\n",
       "  <thead>\n",
       "    <tr style=\"text-align: right;\">\n",
       "      <th></th>\n",
       "      <th>Age</th>\n",
       "      <th>Workclass</th>\n",
       "      <th>Fnlwgt</th>\n",
       "      <th>Education</th>\n",
       "      <th>Education_num</th>\n",
       "      <th>Marital_status</th>\n",
       "      <th>Occupation</th>\n",
       "      <th>Relationship</th>\n",
       "      <th>Race</th>\n",
       "      <th>Sex</th>\n",
       "      <th>Capital_gain</th>\n",
       "      <th>Capital_loss</th>\n",
       "      <th>Hours_per_week</th>\n",
       "      <th>Native_country</th>\n",
       "      <th>Income</th>\n",
       "    </tr>\n",
       "  </thead>\n",
       "  <tbody>\n",
       "    <tr>\n",
       "      <th>0</th>\n",
       "      <td>50</td>\n",
       "      <td>Self-emp-not-inc</td>\n",
       "      <td>83311</td>\n",
       "      <td>13.0</td>\n",
       "      <td>13</td>\n",
       "      <td>Married</td>\n",
       "      <td>Exec-managerial</td>\n",
       "      <td>Husband</td>\n",
       "      <td>White</td>\n",
       "      <td>Male</td>\n",
       "      <td>0</td>\n",
       "      <td>0</td>\n",
       "      <td>13</td>\n",
       "      <td>United-States</td>\n",
       "      <td>&lt;=50K</td>\n",
       "    </tr>\n",
       "    <tr>\n",
       "      <th>1</th>\n",
       "      <td>38</td>\n",
       "      <td>Private</td>\n",
       "      <td>215646</td>\n",
       "      <td>8.0</td>\n",
       "      <td>9</td>\n",
       "      <td>Separated</td>\n",
       "      <td>Handlers-cleaners</td>\n",
       "      <td>Not-in-family</td>\n",
       "      <td>White</td>\n",
       "      <td>Male</td>\n",
       "      <td>0</td>\n",
       "      <td>0</td>\n",
       "      <td>40</td>\n",
       "      <td>United-States</td>\n",
       "      <td>&lt;=50K</td>\n",
       "    </tr>\n",
       "    <tr>\n",
       "      <th>2</th>\n",
       "      <td>53</td>\n",
       "      <td>Private</td>\n",
       "      <td>234721</td>\n",
       "      <td>6.0</td>\n",
       "      <td>7</td>\n",
       "      <td>Married</td>\n",
       "      <td>Handlers-cleaners</td>\n",
       "      <td>Husband</td>\n",
       "      <td>Black</td>\n",
       "      <td>Male</td>\n",
       "      <td>0</td>\n",
       "      <td>0</td>\n",
       "      <td>40</td>\n",
       "      <td>United-States</td>\n",
       "      <td>&lt;=50K</td>\n",
       "    </tr>\n",
       "    <tr>\n",
       "      <th>3</th>\n",
       "      <td>28</td>\n",
       "      <td>Private</td>\n",
       "      <td>338409</td>\n",
       "      <td>13.0</td>\n",
       "      <td>13</td>\n",
       "      <td>Married</td>\n",
       "      <td>Prof-specialty</td>\n",
       "      <td>Wife</td>\n",
       "      <td>Black</td>\n",
       "      <td>Female</td>\n",
       "      <td>0</td>\n",
       "      <td>0</td>\n",
       "      <td>40</td>\n",
       "      <td>Cuba</td>\n",
       "      <td>&lt;=50K</td>\n",
       "    </tr>\n",
       "    <tr>\n",
       "      <th>4</th>\n",
       "      <td>37</td>\n",
       "      <td>Private</td>\n",
       "      <td>284582</td>\n",
       "      <td>14.0</td>\n",
       "      <td>14</td>\n",
       "      <td>Married</td>\n",
       "      <td>Exec-managerial</td>\n",
       "      <td>Wife</td>\n",
       "      <td>White</td>\n",
       "      <td>Female</td>\n",
       "      <td>0</td>\n",
       "      <td>0</td>\n",
       "      <td>40</td>\n",
       "      <td>United-States</td>\n",
       "      <td>&lt;=50K</td>\n",
       "    </tr>\n",
       "    <tr>\n",
       "      <th>...</th>\n",
       "      <td>...</td>\n",
       "      <td>...</td>\n",
       "      <td>...</td>\n",
       "      <td>...</td>\n",
       "      <td>...</td>\n",
       "      <td>...</td>\n",
       "      <td>...</td>\n",
       "      <td>...</td>\n",
       "      <td>...</td>\n",
       "      <td>...</td>\n",
       "      <td>...</td>\n",
       "      <td>...</td>\n",
       "      <td>...</td>\n",
       "      <td>...</td>\n",
       "      <td>...</td>\n",
       "    </tr>\n",
       "    <tr>\n",
       "      <th>32555</th>\n",
       "      <td>27</td>\n",
       "      <td>Private</td>\n",
       "      <td>257302</td>\n",
       "      <td>11.0</td>\n",
       "      <td>12</td>\n",
       "      <td>Married</td>\n",
       "      <td>Tech-support</td>\n",
       "      <td>Wife</td>\n",
       "      <td>White</td>\n",
       "      <td>Female</td>\n",
       "      <td>0</td>\n",
       "      <td>0</td>\n",
       "      <td>38</td>\n",
       "      <td>United-States</td>\n",
       "      <td>&lt;=50K</td>\n",
       "    </tr>\n",
       "    <tr>\n",
       "      <th>32556</th>\n",
       "      <td>40</td>\n",
       "      <td>Private</td>\n",
       "      <td>154374</td>\n",
       "      <td>8.0</td>\n",
       "      <td>9</td>\n",
       "      <td>Married</td>\n",
       "      <td>Machine-op-inspct</td>\n",
       "      <td>Husband</td>\n",
       "      <td>White</td>\n",
       "      <td>Male</td>\n",
       "      <td>0</td>\n",
       "      <td>0</td>\n",
       "      <td>40</td>\n",
       "      <td>United-States</td>\n",
       "      <td>&gt;50K</td>\n",
       "    </tr>\n",
       "    <tr>\n",
       "      <th>32557</th>\n",
       "      <td>58</td>\n",
       "      <td>Private</td>\n",
       "      <td>151910</td>\n",
       "      <td>8.0</td>\n",
       "      <td>9</td>\n",
       "      <td>Widowed</td>\n",
       "      <td>Adm-clerical</td>\n",
       "      <td>Unmarried</td>\n",
       "      <td>White</td>\n",
       "      <td>Female</td>\n",
       "      <td>0</td>\n",
       "      <td>0</td>\n",
       "      <td>40</td>\n",
       "      <td>United-States</td>\n",
       "      <td>&lt;=50K</td>\n",
       "    </tr>\n",
       "    <tr>\n",
       "      <th>32558</th>\n",
       "      <td>22</td>\n",
       "      <td>Private</td>\n",
       "      <td>201490</td>\n",
       "      <td>8.0</td>\n",
       "      <td>9</td>\n",
       "      <td>Never-married</td>\n",
       "      <td>Adm-clerical</td>\n",
       "      <td>Own-child</td>\n",
       "      <td>White</td>\n",
       "      <td>Male</td>\n",
       "      <td>0</td>\n",
       "      <td>0</td>\n",
       "      <td>20</td>\n",
       "      <td>United-States</td>\n",
       "      <td>&lt;=50K</td>\n",
       "    </tr>\n",
       "    <tr>\n",
       "      <th>32559</th>\n",
       "      <td>52</td>\n",
       "      <td>Self-emp-inc</td>\n",
       "      <td>287927</td>\n",
       "      <td>8.0</td>\n",
       "      <td>9</td>\n",
       "      <td>Married</td>\n",
       "      <td>Exec-managerial</td>\n",
       "      <td>Wife</td>\n",
       "      <td>White</td>\n",
       "      <td>Female</td>\n",
       "      <td>15024</td>\n",
       "      <td>0</td>\n",
       "      <td>40</td>\n",
       "      <td>United-States</td>\n",
       "      <td>&gt;50K</td>\n",
       "    </tr>\n",
       "  </tbody>\n",
       "</table>\n",
       "<p>32560 rows × 15 columns</p>\n",
       "</div>"
      ],
      "text/plain": [
       "       Age          Workclass  Fnlwgt  Education  Education_num  \\\n",
       "0       50   Self-emp-not-inc   83311       13.0             13   \n",
       "1       38            Private  215646        8.0              9   \n",
       "2       53            Private  234721        6.0              7   \n",
       "3       28            Private  338409       13.0             13   \n",
       "4       37            Private  284582       14.0             14   \n",
       "...    ...                ...     ...        ...            ...   \n",
       "32555   27            Private  257302       11.0             12   \n",
       "32556   40            Private  154374        8.0              9   \n",
       "32557   58            Private  151910        8.0              9   \n",
       "32558   22            Private  201490        8.0              9   \n",
       "32559   52       Self-emp-inc  287927        8.0              9   \n",
       "\n",
       "       Marital_status          Occupation    Relationship    Race      Sex  \\\n",
       "0             Married     Exec-managerial         Husband   White     Male   \n",
       "1           Separated   Handlers-cleaners   Not-in-family   White     Male   \n",
       "2             Married   Handlers-cleaners         Husband   Black     Male   \n",
       "3             Married      Prof-specialty            Wife   Black   Female   \n",
       "4             Married     Exec-managerial            Wife   White   Female   \n",
       "...               ...                 ...             ...     ...      ...   \n",
       "32555         Married        Tech-support            Wife   White   Female   \n",
       "32556         Married   Machine-op-inspct         Husband   White     Male   \n",
       "32557         Widowed        Adm-clerical       Unmarried   White   Female   \n",
       "32558   Never-married        Adm-clerical       Own-child   White     Male   \n",
       "32559         Married     Exec-managerial            Wife   White   Female   \n",
       "\n",
       "       Capital_gain  Capital_loss  Hours_per_week  Native_country  Income  \n",
       "0                 0             0              13   United-States   <=50K  \n",
       "1                 0             0              40   United-States   <=50K  \n",
       "2                 0             0              40   United-States   <=50K  \n",
       "3                 0             0              40            Cuba   <=50K  \n",
       "4                 0             0              40   United-States   <=50K  \n",
       "...             ...           ...             ...             ...     ...  \n",
       "32555             0             0              38   United-States   <=50K  \n",
       "32556             0             0              40   United-States    >50K  \n",
       "32557             0             0              40   United-States   <=50K  \n",
       "32558             0             0              20   United-States   <=50K  \n",
       "32559         15024             0              40   United-States    >50K  \n",
       "\n",
       "[32560 rows x 15 columns]"
      ]
     },
     "execution_count": 217,
     "metadata": {},
     "output_type": "execute_result"
    }
   ],
   "source": [
    "df"
   ]
  },
  {
   "cell_type": "markdown",
   "id": "d8541692",
   "metadata": {},
   "source": [
    "**Clubbing the category**"
   ]
  },
  {
   "cell_type": "code",
   "execution_count": 218,
   "id": "76521ee7",
   "metadata": {},
   "outputs": [
    {
     "data": {
      "text/plain": [
       " Private           22696\n",
       " Govt_employees     4350\n",
       " Self_employed      3657\n",
       " ?                  1836\n",
       " Without-pay          14\n",
       " Never-worked          7\n",
       "Name: Workclass, dtype: int64"
      ]
     },
     "execution_count": 218,
     "metadata": {},
     "output_type": "execute_result"
    }
   ],
   "source": [
    "\n",
    "#replace elements in list.\n",
    "df['Workclass'].replace(to_replace = ['Self-emp-not-inc','Self-emp-inc'] ,value = 'Self_employed',inplace= True,regex=True, method='pad')\n",
    "df['Workclass'].replace(to_replace = ['Local-gov','State-gov','Federal-gov'],value = 'Govt_employees',inplace = True,regex=True, method='pad' )\n",
    "\n",
    "df['Workclass'].value_counts()"
   ]
  },
  {
   "cell_type": "code",
   "execution_count": 219,
   "id": "990da76a",
   "metadata": {},
   "outputs": [],
   "source": [
    "df['Workclass'] = df['Workclass'].replace(' ?', ' Self')\n",
    "df['Occupation'] = df['Occupation'].replace(' ?', '  Misc')\n",
    "df['Native_country'] = df['Native_country'].replace(' ?', ' United--States')"
   ]
  },
  {
   "cell_type": "markdown",
   "id": "e2bf60f9",
   "metadata": {},
   "source": [
    "Charting the data to understand the relation"
   ]
  },
  {
   "cell_type": "code",
   "execution_count": 220,
   "id": "6158569a",
   "metadata": {},
   "outputs": [],
   "source": [
    "from matplotlib import pyplot as plt\n",
    "%matplotlib inline\n",
    "import seaborn as sns"
   ]
  },
  {
   "cell_type": "code",
   "execution_count": 221,
   "id": "cb0ec685",
   "metadata": {},
   "outputs": [
    {
     "data": {
      "text/plain": [
       "Text(0, 0.5, 'Frequency')"
      ]
     },
     "execution_count": 221,
     "metadata": {},
     "output_type": "execute_result"
    },
    {
     "data": {
      "image/png": "[encoded data removed]",
      "text/plain": [
       "<Figure size 864x432 with 1 Axes>"
      ]
     },
     "metadata": {
      "needs_background": "light"
     },
     "output_type": "display_data"
    }
   ],
   "source": [
    "plt.figure(figsize =(12,6))\n",
    "ax=sns.countplot(x = 'Income', data = df)\n",
    "plt.xlabel(\"Income\",fontsize = 12)\n",
    "plt.ylabel(\"Frequency\",fontsize = 12)"
   ]
  },
  {
   "cell_type": "markdown",
   "id": "cfe72a5d",
   "metadata": {},
   "source": [
    "25000 have salary less than 50k and  7500 have salary more than 50"
   ]
  },
  {
   "cell_type": "code",
   "execution_count": 222,
   "id": "bc2243f0",
   "metadata": {},
   "outputs": [
    {
     "name": "stdout",
     "output_type": "stream",
     "text": [
      "<class 'pandas.core.frame.DataFrame'>\n",
      "RangeIndex: 32560 entries, 0 to 32559\n",
      "Data columns (total 15 columns):\n",
      " #   Column          Non-Null Count  Dtype  \n",
      "---  ------          --------------  -----  \n",
      " 0   Age             32560 non-null  int64  \n",
      " 1   Workclass       32560 non-null  object \n",
      " 2   Fnlwgt          32560 non-null  int64  \n",
      " 3   Education       32560 non-null  float64\n",
      " 4   Education_num   32560 non-null  int64  \n",
      " 5   Marital_status  32560 non-null  object \n",
      " 6   Occupation      32560 non-null  object \n",
      " 7   Relationship    32560 non-null  object \n",
      " 8   Race            32560 non-null  object \n",
      " 9   Sex             32560 non-null  object \n",
      " 10  Capital_gain    32560 non-null  int64  \n",
      " 11  Capital_loss    32560 non-null  int64  \n",
      " 12  Hours_per_week  32560 non-null  int64  \n",
      " 13  Native_country  32560 non-null  object \n",
      " 14  Income          32560 non-null  object \n",
      "dtypes: float64(1), int64(6), object(8)\n",
      "memory usage: 3.7+ MB\n"
     ]
    }
   ],
   "source": [
    "df.info()"
   ]
  },
  {
   "cell_type": "code",
   "execution_count": 223,
   "id": "e9f98bfe",
   "metadata": {},
   "outputs": [
    {
     "name": "stdout",
     "output_type": "stream",
     "text": [
      "Index(['Age', 'Fnlwgt', 'Education', 'Education_num', 'Capital_gain',\n",
      "       'Capital_loss', 'Hours_per_week'],\n",
      "      dtype='object')\n"
     ]
    },
    {
     "data": {
      "text/plain": [
       "['Age',\n",
       " 'Fnlwgt',\n",
       " 'Education',\n",
       " 'Education-num',\n",
       " 'Capital_gain',\n",
       " 'Capital_loss',\n",
       " 'Hours-per-week',\n",
       " 'Income']"
      ]
     },
     "execution_count": 223,
     "metadata": {},
     "output_type": "execute_result"
    }
   ],
   "source": [
    "dfnum = df.select_dtypes(include=['int64', 'float64'])\n",
    "print(dfnum.columns)\n",
    "['Age', 'Fnlwgt', 'Education', 'Education-num', 'Capital_gain', 'Capital_loss',        'Hours-per-week', 'Income']"
   ]
  },
  {
   "cell_type": "code",
   "execution_count": 224,
   "id": "245af0d1",
   "metadata": {},
   "outputs": [
    {
     "data": {
      "text/plain": [
       "array([[<AxesSubplot:title={'center':'Age'}>,\n",
       "        <AxesSubplot:title={'center':'Fnlwgt'}>,\n",
       "        <AxesSubplot:title={'center':'Education'}>],\n",
       "       [<AxesSubplot:title={'center':'Education_num'}>,\n",
       "        <AxesSubplot:title={'center':'Capital_gain'}>,\n",
       "        <AxesSubplot:title={'center':'Capital_loss'}>],\n",
       "       [<AxesSubplot:title={'center':'Hours_per_week'}>, <AxesSubplot:>,\n",
       "        <AxesSubplot:>]], dtype=object)"
      ]
     },
     "execution_count": 224,
     "metadata": {},
     "output_type": "execute_result"
    },
    {
     "data": {
      "image/png": "[encoded data removed]",
      "text/plain": [
       "<Figure size 864x1440 with 9 Axes>"
      ]
     },
     "metadata": {
      "needs_background": "light"
     },
     "output_type": "display_data"
    }
   ],
   "source": [
    "dfnum.hist(figsize=(12,20))"
   ]
  },
  {
   "cell_type": "markdown",
   "id": "2cde736b",
   "metadata": {},
   "source": [
    "people spent more year in education have chances to get more than 50k.\n",
    "\n",
    "To make more people are working either 30 hours possibly because they highly educated other are not making more may be becasue of less education"
   ]
  },
  {
   "cell_type": "code",
   "execution_count": 225,
   "id": "84fbfb96",
   "metadata": {},
   "outputs": [
    {
     "name": "stdout",
     "output_type": "stream",
     "text": [
      "Index(['Workclass', 'Marital_status', 'Occupation', 'Relationship', 'Race',\n",
      "       'Sex', 'Native_country', 'Income'],\n",
      "      dtype='object')\n"
     ]
    },
    {
     "data": {
      "text/plain": [
       "['Workclass',\n",
       " 'Education',\n",
       " 'Marital_Status',\n",
       " 'Occupation',\n",
       " 'Relationship',\n",
       " 'Race',\n",
       " 'Sex',\n",
       " 'Native_country',\n",
       " 'Income']"
      ]
     },
     "execution_count": 225,
     "metadata": {},
     "output_type": "execute_result"
    }
   ],
   "source": [
    "dfcat = df.select_dtypes(include=['object'])\n",
    "print(dfcat.columns)\n",
    "['Workclass', 'Education', 'Marital_Status', 'Occupation',        'Relationship', 'Race', 'Sex', 'Native_country', 'Income']"
   ]
  },
  {
   "cell_type": "code",
   "execution_count": 226,
   "id": "88239743",
   "metadata": {},
   "outputs": [
    {
     "data": {
      "text/plain": [
       "<AxesSubplot:xlabel='count', ylabel='Workclass'>"
      ]
     },
     "execution_count": 226,
     "metadata": {},
     "output_type": "execute_result"
    },
    {
     "data": {
      "image/png": "[encoded data removed]",
      "text/plain": [
       "<Figure size 432x288 with 1 Axes>"
      ]
     },
     "metadata": {
      "needs_background": "light"
     },
     "output_type": "display_data"
    }
   ],
   "source": [
    "sns.countplot(y='Workclass', hue='Income', data = dfcat)"
   ]
  },
  {
   "cell_type": "code",
   "execution_count": 227,
   "id": "e1e52e50",
   "metadata": {},
   "outputs": [
    {
     "data": {
      "text/plain": [
       "<AxesSubplot:xlabel='count', ylabel='Occupation'>"
      ]
     },
     "execution_count": 227,
     "metadata": {},
     "output_type": "execute_result"
    },
    {
     "data": {
      "image/png": "[encoded data removed]",
      "text/plain": [
       "<Figure size 432x288 with 1 Axes>"
      ]
     },
     "metadata": {
      "needs_background": "light"
     },
     "output_type": "display_data"
    }
   ],
   "source": [
    "sns.countplot(y='Occupation', hue='Income', data = dfcat)"
   ]
  },
  {
   "cell_type": "code",
   "execution_count": 228,
   "id": "e801c906",
   "metadata": {},
   "outputs": [
    {
     "data": {
      "text/plain": [
       "<AxesSubplot:xlabel='count', ylabel='Marital_status'>"
      ]
     },
     "execution_count": 228,
     "metadata": {},
     "output_type": "execute_result"
    },
    {
     "data": {
      "image/png": "[encoded data removed]",
      "text/plain": [
       "<Figure size 432x288 with 1 Axes>"
      ]
     },
     "metadata": {
      "needs_background": "light"
     },
     "output_type": "display_data"
    }
   ],
   "source": [
    "sns.countplot(y='Marital_status', hue='Income', data = dfcat)\n",
    "\n",
    "# Married have more chances to get more than 50k"
   ]
  },
  {
   "cell_type": "code",
   "execution_count": 229,
   "id": "d1f7a089",
   "metadata": {},
   "outputs": [
    {
     "data": {
      "text/plain": [
       "<AxesSubplot:xlabel='count', ylabel='Relationship'>"
      ]
     },
     "execution_count": 229,
     "metadata": {},
     "output_type": "execute_result"
    },
    {
     "data": {
      "image/png": "[encoded data removed]",
      "text/plain": [
       "<Figure size 432x288 with 1 Axes>"
      ]
     },
     "metadata": {
      "needs_background": "light"
     },
     "output_type": "display_data"
    }
   ],
   "source": [
    "sns.countplot(y='Relationship', hue='Income', data = dfcat)\n",
    "\n",
    "# Only Husband and only wife are getting more than 50k possibly beciase they are focued on work. Unmarried is not earning 50k possibly becuase he has recently started career"
   ]
  },
  {
   "cell_type": "code",
   "execution_count": 230,
   "id": "45529fb6",
   "metadata": {},
   "outputs": [
    {
     "data": {
      "text/plain": [
       "<AxesSubplot:xlabel='count', ylabel='Race'>"
      ]
     },
     "execution_count": 230,
     "metadata": {},
     "output_type": "execute_result"
    },
    {
     "data": {
      "image/png": "[encoded data removed]",
      "text/plain": [
       "<Figure size 432x288 with 1 Axes>"
      ]
     },
     "metadata": {
      "needs_background": "light"
     },
     "output_type": "display_data"
    }
   ],
   "source": [
    "sns.countplot(y='Race', hue='Income', data = dfcat)\n",
    "\n",
    "# White and Asian Pac islanders are getting more than 50k in good ratio"
   ]
  },
  {
   "cell_type": "code",
   "execution_count": 231,
   "id": "b9413eb6",
   "metadata": {},
   "outputs": [
    {
     "data": {
      "text/plain": [
       "<AxesSubplot:xlabel='count', ylabel='Sex'>"
      ]
     },
     "execution_count": 231,
     "metadata": {},
     "output_type": "execute_result"
    },
    {
     "data": {
      "image/png": "[encoded data removed]",
      "text/plain": [
       "<Figure size 432x288 with 1 Axes>"
      ]
     },
     "metadata": {
      "needs_background": "light"
     },
     "output_type": "display_data"
    }
   ],
   "source": [
    "sns.countplot(y='Sex', hue='Income', data = dfcat)\n",
    "\n",
    "# 40% Male are getting more than 50k.   Only 10% female getting more than 50k"
   ]
  },
  {
   "cell_type": "code",
   "execution_count": 232,
   "id": "5c129c73",
   "metadata": {},
   "outputs": [
    {
     "data": {
      "text/plain": [
       "<AxesSubplot:xlabel='count', ylabel='Native_country'>"
      ]
     },
     "execution_count": 232,
     "metadata": {},
     "output_type": "execute_result"
    },
    {
     "data": {
      "image/png": "[encoded data removed]",
      "text/plain": [
       "<Figure size 432x288 with 1 Axes>"
      ]
     },
     "metadata": {
      "needs_background": "light"
     },
     "output_type": "display_data"
    }
   ],
   "source": [
    "sns.countplot(y='Native_country', hue='Income', data = dfcat)"
   ]
  },
  {
   "cell_type": "code",
   "execution_count": 233,
   "id": "ba3db1c3",
   "metadata": {},
   "outputs": [
    {
     "name": "stdout",
     "output_type": "stream",
     "text": [
      "<class 'pandas.core.frame.DataFrame'>\n",
      "RangeIndex: 32560 entries, 0 to 32559\n",
      "Data columns (total 15 columns):\n",
      " #   Column          Non-Null Count  Dtype  \n",
      "---  ------          --------------  -----  \n",
      " 0   Age             32560 non-null  int64  \n",
      " 1   Workclass       32560 non-null  object \n",
      " 2   Fnlwgt          32560 non-null  int64  \n",
      " 3   Education       32560 non-null  float64\n",
      " 4   Education_num   32560 non-null  int64  \n",
      " 5   Marital_status  32560 non-null  object \n",
      " 6   Occupation      32560 non-null  object \n",
      " 7   Relationship    32560 non-null  object \n",
      " 8   Race            32560 non-null  object \n",
      " 9   Sex             32560 non-null  object \n",
      " 10  Capital_gain    32560 non-null  int64  \n",
      " 11  Capital_loss    32560 non-null  int64  \n",
      " 12  Hours_per_week  32560 non-null  int64  \n",
      " 13  Native_country  32560 non-null  object \n",
      " 14  Income          32560 non-null  object \n",
      "dtypes: float64(1), int64(6), object(8)\n",
      "memory usage: 3.7+ MB\n"
     ]
    }
   ],
   "source": [
    "df.info()"
   ]
  },
  {
   "cell_type": "code",
   "execution_count": 235,
   "id": "9f56202f",
   "metadata": {},
   "outputs": [
    {
     "name": "stdout",
     "output_type": "stream",
     "text": [
      "<class 'pandas.core.frame.DataFrame'>\n",
      "RangeIndex: 32560 entries, 0 to 32559\n",
      "Data columns (total 15 columns):\n",
      " #   Column          Non-Null Count  Dtype  \n",
      "---  ------          --------------  -----  \n",
      " 0   Age             32560 non-null  int64  \n",
      " 1   Workclass       32560 non-null  object \n",
      " 2   Fnlwgt          32560 non-null  int64  \n",
      " 3   Education       32560 non-null  float64\n",
      " 4   Education_num   32560 non-null  int64  \n",
      " 5   Marital_status  32560 non-null  object \n",
      " 6   Occupation      32560 non-null  object \n",
      " 7   Relationship    32560 non-null  object \n",
      " 8   Race            32560 non-null  object \n",
      " 9   Sex             32560 non-null  object \n",
      " 10  Capital_gain    32560 non-null  int64  \n",
      " 11  Capital_loss    32560 non-null  int64  \n",
      " 12  Hours_per_week  32560 non-null  int64  \n",
      " 13  Native_country  32560 non-null  object \n",
      " 14  Income          32560 non-null  int64  \n",
      "dtypes: float64(1), int64(7), object(7)\n",
      "memory usage: 3.7+ MB\n"
     ]
    }
   ],
   "source": [
    "df['Income'] = df['Income'].replace(' <=50K', ' 0')\n",
    "df['Income'] = df['Income'].replace(' >50K', ' 1')\n",
    "df['Income'] = df['Income'].astype('int64')\n",
    "df.info()"
   ]
  },
  {
   "cell_type": "code",
   "execution_count": 242,
   "id": "a6a509ef",
   "metadata": {},
   "outputs": [
    {
     "data": {
      "text/plain": [
       "2    22696\n",
       "0     4350\n",
       "4     3657\n",
       "3     1836\n",
       "5       14\n",
       "1        7\n",
       "Name: Workclass, dtype: int64"
      ]
     },
     "execution_count": 242,
     "metadata": {},
     "output_type": "execute_result"
    }
   ],
   "source": [
    "from sklearn.preprocessing import LabelEncoder\n",
    "LE = LabelEncoder()\n",
    "df['Workclass'] = LE.fit_transform(df['Workclass'])\n",
    "df['Workclass'].value_counts()\n"
   ]
  },
  {
   "cell_type": "code",
   "execution_count": 243,
   "id": "b4dcf8f5",
   "metadata": {},
   "outputs": [
    {
     "data": {
      "text/plain": [
       "0    15417\n",
       "1    10682\n",
       "2     5468\n",
       "3      993\n",
       "Name: Marital_status, dtype: int64"
      ]
     },
     "execution_count": 243,
     "metadata": {},
     "output_type": "execute_result"
    }
   ],
   "source": [
    "\n",
    "\n",
    "df['Marital_status'] = LE.fit_transform(df['Marital_status'])\n",
    "df['Marital_status'].value_counts()\n"
   ]
  },
  {
   "cell_type": "code",
   "execution_count": 244,
   "id": "5eb8a378",
   "metadata": {},
   "outputs": [
    {
     "data": {
      "text/plain": [
       "10    4140\n",
       "3     4099\n",
       "4     4066\n",
       "1     3769\n",
       "12    3650\n",
       "8     3295\n",
       "7     2002\n",
       "0     1843\n",
       "14    1597\n",
       "6     1370\n",
       "5      994\n",
       "13     928\n",
       "11     649\n",
       "9      149\n",
       "2        9\n",
       "Name: Occupation, dtype: int64"
      ]
     },
     "execution_count": 244,
     "metadata": {},
     "output_type": "execute_result"
    }
   ],
   "source": [
    "\n",
    "\n",
    "df['Occupation'] = LE.fit_transform(df['Occupation'])\n",
    "df['Occupation'].value_counts()\n"
   ]
  },
  {
   "cell_type": "code",
   "execution_count": 245,
   "id": "81b3e319",
   "metadata": {},
   "outputs": [
    {
     "data": {
      "text/plain": [
       "0    13193\n",
       "1     8304\n",
       "3     5068\n",
       "4     3446\n",
       "5     1568\n",
       "2      981\n",
       "Name: Relationship, dtype: int64"
      ]
     },
     "execution_count": 245,
     "metadata": {},
     "output_type": "execute_result"
    }
   ],
   "source": [
    "df['Relationship'] = LE.fit_transform(df['Relationship'])\n",
    "df['Relationship'].value_counts()\n"
   ]
  },
  {
   "cell_type": "code",
   "execution_count": 246,
   "id": "4243d20f",
   "metadata": {},
   "outputs": [
    {
     "data": {
      "text/plain": [
       "4    27815\n",
       "2     3124\n",
       "1     1039\n",
       "0      311\n",
       "3      271\n",
       "Name: Race, dtype: int64"
      ]
     },
     "execution_count": 246,
     "metadata": {},
     "output_type": "execute_result"
    }
   ],
   "source": [
    "df['Race'] = LE.fit_transform(df['Race'])\n",
    "df['Race'].value_counts()\n"
   ]
  },
  {
   "cell_type": "code",
   "execution_count": 249,
   "id": "c6004e38",
   "metadata": {},
   "outputs": [
    {
     "data": {
      "text/plain": [
       "1    21789\n",
       "0    10771\n",
       "Name: Sex, dtype: int64"
      ]
     },
     "execution_count": 249,
     "metadata": {},
     "output_type": "execute_result"
    }
   ],
   "source": [
    "df['Sex'] = LE.fit_transform(df['Sex'])\n",
    "df['Sex'].value_counts()\n"
   ]
  },
  {
   "cell_type": "code",
   "execution_count": 247,
   "id": "3fccc6f3",
   "metadata": {},
   "outputs": [
    {
     "data": {
      "text/plain": [
       "39    29169\n",
       "25      643\n",
       "38      583\n",
       "29      198\n",
       "10      137\n",
       "1       121\n",
       "32      114\n",
       "7       106\n",
       "18      100\n",
       "4        95\n",
       "8        90\n",
       "22       81\n",
       "34       80\n",
       "2        75\n",
       "21       73\n",
       "5        70\n",
       "40       67\n",
       "12       64\n",
       "23       62\n",
       "30       60\n",
       "3        59\n",
       "35       51\n",
       "13       44\n",
       "19       43\n",
       "31       37\n",
       "26       34\n",
       "28       31\n",
       "9        29\n",
       "11       29\n",
       "6        28\n",
       "20       24\n",
       "16       20\n",
       "0        19\n",
       "37       19\n",
       "24       18\n",
       "36       18\n",
       "41       16\n",
       "27       14\n",
       "17       13\n",
       "15       13\n",
       "33       12\n",
       "14        1\n",
       "Name: Native_country, dtype: int64"
      ]
     },
     "execution_count": 247,
     "metadata": {},
     "output_type": "execute_result"
    }
   ],
   "source": [
    "df['Native_country'] = LE.fit_transform(df['Native_country'])\n",
    "df['Native_country'].value_counts()\n"
   ]
  },
  {
   "cell_type": "code",
   "execution_count": 248,
   "id": "4cc8a92b",
   "metadata": {},
   "outputs": [
    {
     "data": {
      "text/html": [
       "<div>\n",
       "<style scoped>\n",
       "    .dataframe tbody tr th:only-of-type {\n",
       "        vertical-align: middle;\n",
       "    }\n",
       "\n",
       "    .dataframe tbody tr th {\n",
       "        vertical-align: top;\n",
       "    }\n",
       "\n",
       "    .dataframe thead th {\n",
       "        text-align: right;\n",
       "    }\n",
       "</style>\n",
       "<table border=\"1\" class=\"dataframe\">\n",
       "  <thead>\n",
       "    <tr style=\"text-align: right;\">\n",
       "      <th></th>\n",
       "      <th>Age</th>\n",
       "      <th>Workclass</th>\n",
       "      <th>Fnlwgt</th>\n",
       "      <th>Education</th>\n",
       "      <th>Education_num</th>\n",
       "      <th>Marital_status</th>\n",
       "      <th>Occupation</th>\n",
       "      <th>Relationship</th>\n",
       "      <th>Race</th>\n",
       "      <th>Sex</th>\n",
       "      <th>Capital_gain</th>\n",
       "      <th>Capital_loss</th>\n",
       "      <th>Hours_per_week</th>\n",
       "      <th>Native_country</th>\n",
       "      <th>Income</th>\n",
       "    </tr>\n",
       "  </thead>\n",
       "  <tbody>\n",
       "    <tr>\n",
       "      <th>0</th>\n",
       "      <td>50</td>\n",
       "      <td>4</td>\n",
       "      <td>83311</td>\n",
       "      <td>13.0</td>\n",
       "      <td>13</td>\n",
       "      <td>0</td>\n",
       "      <td>4</td>\n",
       "      <td>0</td>\n",
       "      <td>4</td>\n",
       "      <td>Male</td>\n",
       "      <td>0</td>\n",
       "      <td>0</td>\n",
       "      <td>13</td>\n",
       "      <td>39</td>\n",
       "      <td>0</td>\n",
       "    </tr>\n",
       "    <tr>\n",
       "      <th>1</th>\n",
       "      <td>38</td>\n",
       "      <td>2</td>\n",
       "      <td>215646</td>\n",
       "      <td>8.0</td>\n",
       "      <td>9</td>\n",
       "      <td>2</td>\n",
       "      <td>6</td>\n",
       "      <td>1</td>\n",
       "      <td>4</td>\n",
       "      <td>Male</td>\n",
       "      <td>0</td>\n",
       "      <td>0</td>\n",
       "      <td>40</td>\n",
       "      <td>39</td>\n",
       "      <td>0</td>\n",
       "    </tr>\n",
       "    <tr>\n",
       "      <th>2</th>\n",
       "      <td>53</td>\n",
       "      <td>2</td>\n",
       "      <td>234721</td>\n",
       "      <td>6.0</td>\n",
       "      <td>7</td>\n",
       "      <td>0</td>\n",
       "      <td>6</td>\n",
       "      <td>0</td>\n",
       "      <td>2</td>\n",
       "      <td>Male</td>\n",
       "      <td>0</td>\n",
       "      <td>0</td>\n",
       "      <td>40</td>\n",
       "      <td>39</td>\n",
       "      <td>0</td>\n",
       "    </tr>\n",
       "    <tr>\n",
       "      <th>3</th>\n",
       "      <td>28</td>\n",
       "      <td>2</td>\n",
       "      <td>338409</td>\n",
       "      <td>13.0</td>\n",
       "      <td>13</td>\n",
       "      <td>0</td>\n",
       "      <td>10</td>\n",
       "      <td>5</td>\n",
       "      <td>2</td>\n",
       "      <td>Female</td>\n",
       "      <td>0</td>\n",
       "      <td>0</td>\n",
       "      <td>40</td>\n",
       "      <td>4</td>\n",
       "      <td>0</td>\n",
       "    </tr>\n",
       "    <tr>\n",
       "      <th>4</th>\n",
       "      <td>37</td>\n",
       "      <td>2</td>\n",
       "      <td>284582</td>\n",
       "      <td>14.0</td>\n",
       "      <td>14</td>\n",
       "      <td>0</td>\n",
       "      <td>4</td>\n",
       "      <td>5</td>\n",
       "      <td>4</td>\n",
       "      <td>Female</td>\n",
       "      <td>0</td>\n",
       "      <td>0</td>\n",
       "      <td>40</td>\n",
       "      <td>39</td>\n",
       "      <td>0</td>\n",
       "    </tr>\n",
       "    <tr>\n",
       "      <th>...</th>\n",
       "      <td>...</td>\n",
       "      <td>...</td>\n",
       "      <td>...</td>\n",
       "      <td>...</td>\n",
       "      <td>...</td>\n",
       "      <td>...</td>\n",
       "      <td>...</td>\n",
       "      <td>...</td>\n",
       "      <td>...</td>\n",
       "      <td>...</td>\n",
       "      <td>...</td>\n",
       "      <td>...</td>\n",
       "      <td>...</td>\n",
       "      <td>...</td>\n",
       "      <td>...</td>\n",
       "    </tr>\n",
       "    <tr>\n",
       "      <th>32555</th>\n",
       "      <td>27</td>\n",
       "      <td>2</td>\n",
       "      <td>257302</td>\n",
       "      <td>11.0</td>\n",
       "      <td>12</td>\n",
       "      <td>0</td>\n",
       "      <td>13</td>\n",
       "      <td>5</td>\n",
       "      <td>4</td>\n",
       "      <td>Female</td>\n",
       "      <td>0</td>\n",
       "      <td>0</td>\n",
       "      <td>38</td>\n",
       "      <td>39</td>\n",
       "      <td>0</td>\n",
       "    </tr>\n",
       "    <tr>\n",
       "      <th>32556</th>\n",
       "      <td>40</td>\n",
       "      <td>2</td>\n",
       "      <td>154374</td>\n",
       "      <td>8.0</td>\n",
       "      <td>9</td>\n",
       "      <td>0</td>\n",
       "      <td>7</td>\n",
       "      <td>0</td>\n",
       "      <td>4</td>\n",
       "      <td>Male</td>\n",
       "      <td>0</td>\n",
       "      <td>0</td>\n",
       "      <td>40</td>\n",
       "      <td>39</td>\n",
       "      <td>1</td>\n",
       "    </tr>\n",
       "    <tr>\n",
       "      <th>32557</th>\n",
       "      <td>58</td>\n",
       "      <td>2</td>\n",
       "      <td>151910</td>\n",
       "      <td>8.0</td>\n",
       "      <td>9</td>\n",
       "      <td>3</td>\n",
       "      <td>1</td>\n",
       "      <td>4</td>\n",
       "      <td>4</td>\n",
       "      <td>Female</td>\n",
       "      <td>0</td>\n",
       "      <td>0</td>\n",
       "      <td>40</td>\n",
       "      <td>39</td>\n",
       "      <td>0</td>\n",
       "    </tr>\n",
       "    <tr>\n",
       "      <th>32558</th>\n",
       "      <td>22</td>\n",
       "      <td>2</td>\n",
       "      <td>201490</td>\n",
       "      <td>8.0</td>\n",
       "      <td>9</td>\n",
       "      <td>1</td>\n",
       "      <td>1</td>\n",
       "      <td>3</td>\n",
       "      <td>4</td>\n",
       "      <td>Male</td>\n",
       "      <td>0</td>\n",
       "      <td>0</td>\n",
       "      <td>20</td>\n",
       "      <td>39</td>\n",
       "      <td>0</td>\n",
       "    </tr>\n",
       "    <tr>\n",
       "      <th>32559</th>\n",
       "      <td>52</td>\n",
       "      <td>4</td>\n",
       "      <td>287927</td>\n",
       "      <td>8.0</td>\n",
       "      <td>9</td>\n",
       "      <td>0</td>\n",
       "      <td>4</td>\n",
       "      <td>5</td>\n",
       "      <td>4</td>\n",
       "      <td>Female</td>\n",
       "      <td>15024</td>\n",
       "      <td>0</td>\n",
       "      <td>40</td>\n",
       "      <td>39</td>\n",
       "      <td>1</td>\n",
       "    </tr>\n",
       "  </tbody>\n",
       "</table>\n",
       "<p>32560 rows × 15 columns</p>\n",
       "</div>"
      ],
      "text/plain": [
       "       Age  Workclass  Fnlwgt  Education  Education_num  Marital_status  \\\n",
       "0       50          4   83311       13.0             13               0   \n",
       "1       38          2  215646        8.0              9               2   \n",
       "2       53          2  234721        6.0              7               0   \n",
       "3       28          2  338409       13.0             13               0   \n",
       "4       37          2  284582       14.0             14               0   \n",
       "...    ...        ...     ...        ...            ...             ...   \n",
       "32555   27          2  257302       11.0             12               0   \n",
       "32556   40          2  154374        8.0              9               0   \n",
       "32557   58          2  151910        8.0              9               3   \n",
       "32558   22          2  201490        8.0              9               1   \n",
       "32559   52          4  287927        8.0              9               0   \n",
       "\n",
       "       Occupation  Relationship  Race      Sex  Capital_gain  Capital_loss  \\\n",
       "0               4             0     4     Male             0             0   \n",
       "1               6             1     4     Male             0             0   \n",
       "2               6             0     2     Male             0             0   \n",
       "3              10             5     2   Female             0             0   \n",
       "4               4             5     4   Female             0             0   \n",
       "...           ...           ...   ...      ...           ...           ...   \n",
       "32555          13             5     4   Female             0             0   \n",
       "32556           7             0     4     Male             0             0   \n",
       "32557           1             4     4   Female             0             0   \n",
       "32558           1             3     4     Male             0             0   \n",
       "32559           4             5     4   Female         15024             0   \n",
       "\n",
       "       Hours_per_week  Native_country  Income  \n",
       "0                  13              39       0  \n",
       "1                  40              39       0  \n",
       "2                  40              39       0  \n",
       "3                  40               4       0  \n",
       "4                  40              39       0  \n",
       "...               ...             ...     ...  \n",
       "32555              38              39       0  \n",
       "32556              40              39       1  \n",
       "32557              40              39       0  \n",
       "32558              20              39       0  \n",
       "32559              40              39       1  \n",
       "\n",
       "[32560 rows x 15 columns]"
      ]
     },
     "execution_count": 248,
     "metadata": {},
     "output_type": "execute_result"
    }
   ],
   "source": [
    "df"
   ]
  },
  {
   "cell_type": "code",
   "execution_count": 250,
   "id": "ebc1b43f",
   "metadata": {},
   "outputs": [
    {
     "data": {
      "text/html": [
       "<div>\n",
       "<style scoped>\n",
       "    .dataframe tbody tr th:only-of-type {\n",
       "        vertical-align: middle;\n",
       "    }\n",
       "\n",
       "    .dataframe tbody tr th {\n",
       "        vertical-align: top;\n",
       "    }\n",
       "\n",
       "    .dataframe thead th {\n",
       "        text-align: right;\n",
       "    }\n",
       "</style>\n",
       "<table border=\"1\" class=\"dataframe\">\n",
       "  <thead>\n",
       "    <tr style=\"text-align: right;\">\n",
       "      <th></th>\n",
       "      <th>Age</th>\n",
       "      <th>Workclass</th>\n",
       "      <th>Fnlwgt</th>\n",
       "      <th>Education</th>\n",
       "      <th>Education_num</th>\n",
       "      <th>Marital_status</th>\n",
       "      <th>Occupation</th>\n",
       "      <th>Relationship</th>\n",
       "      <th>Race</th>\n",
       "      <th>Sex</th>\n",
       "      <th>Capital_gain</th>\n",
       "      <th>Capital_loss</th>\n",
       "      <th>Hours_per_week</th>\n",
       "      <th>Native_country</th>\n",
       "      <th>Income</th>\n",
       "    </tr>\n",
       "  </thead>\n",
       "  <tbody>\n",
       "    <tr>\n",
       "      <th>Age</th>\n",
       "      <td>1.000000</td>\n",
       "      <td>0.067782</td>\n",
       "      <td>-0.076646</td>\n",
       "      <td>-0.019959</td>\n",
       "      <td>0.036527</td>\n",
       "      <td>-0.025397</td>\n",
       "      <td>-0.020946</td>\n",
       "      <td>-0.263698</td>\n",
       "      <td>0.028718</td>\n",
       "      <td>0.088832</td>\n",
       "      <td>0.077674</td>\n",
       "      <td>0.057775</td>\n",
       "      <td>0.068756</td>\n",
       "      <td>0.000405</td>\n",
       "      <td>0.234039</td>\n",
       "    </tr>\n",
       "    <tr>\n",
       "      <th>Workclass</th>\n",
       "      <td>0.067782</td>\n",
       "      <td>1.000000</td>\n",
       "      <td>-0.022240</td>\n",
       "      <td>-0.102910</td>\n",
       "      <td>-0.087960</td>\n",
       "      <td>-0.066633</td>\n",
       "      <td>-0.093311</td>\n",
       "      <td>-0.065656</td>\n",
       "      <td>0.067466</td>\n",
       "      <td>0.097011</td>\n",
       "      <td>0.056893</td>\n",
       "      <td>0.008703</td>\n",
       "      <td>0.055099</td>\n",
       "      <td>-0.015679</td>\n",
       "      <td>0.005920</td>\n",
       "    </tr>\n",
       "    <tr>\n",
       "      <th>Fnlwgt</th>\n",
       "      <td>-0.076646</td>\n",
       "      <td>-0.022240</td>\n",
       "      <td>1.000000</td>\n",
       "      <td>-0.040500</td>\n",
       "      <td>-0.043159</td>\n",
       "      <td>0.004237</td>\n",
       "      <td>0.001554</td>\n",
       "      <td>0.008922</td>\n",
       "      <td>-0.021278</td>\n",
       "      <td>0.026882</td>\n",
       "      <td>0.000437</td>\n",
       "      <td>-0.010259</td>\n",
       "      <td>-0.018770</td>\n",
       "      <td>-0.064600</td>\n",
       "      <td>-0.009481</td>\n",
       "    </tr>\n",
       "    <tr>\n",
       "      <th>Education</th>\n",
       "      <td>-0.019959</td>\n",
       "      <td>-0.102910</td>\n",
       "      <td>-0.040500</td>\n",
       "      <td>1.000000</td>\n",
       "      <td>0.880847</td>\n",
       "      <td>-0.057067</td>\n",
       "      <td>0.066642</td>\n",
       "      <td>-0.051097</td>\n",
       "      <td>0.026982</td>\n",
       "      <td>-0.021828</td>\n",
       "      <td>0.061783</td>\n",
       "      <td>0.056858</td>\n",
       "      <td>0.095853</td>\n",
       "      <td>0.097334</td>\n",
       "      <td>0.261538</td>\n",
       "    </tr>\n",
       "    <tr>\n",
       "      <th>Education_num</th>\n",
       "      <td>0.036527</td>\n",
       "      <td>-0.087960</td>\n",
       "      <td>-0.043159</td>\n",
       "      <td>0.880847</td>\n",
       "      <td>1.000000</td>\n",
       "      <td>-0.089153</td>\n",
       "      <td>0.109748</td>\n",
       "      <td>-0.094145</td>\n",
       "      <td>0.031825</td>\n",
       "      <td>0.012256</td>\n",
       "      <td>0.122627</td>\n",
       "      <td>0.079932</td>\n",
       "      <td>0.148127</td>\n",
       "      <td>0.090376</td>\n",
       "      <td>0.335182</td>\n",
       "    </tr>\n",
       "    <tr>\n",
       "      <th>Marital_status</th>\n",
       "      <td>-0.025397</td>\n",
       "      <td>-0.066633</td>\n",
       "      <td>0.004237</td>\n",
       "      <td>-0.057067</td>\n",
       "      <td>-0.089153</td>\n",
       "      <td>1.000000</td>\n",
       "      <td>-0.053751</td>\n",
       "      <td>0.439240</td>\n",
       "      <td>-0.063188</td>\n",
       "      <td>-0.444441</td>\n",
       "      <td>-0.065508</td>\n",
       "      <td>-0.059768</td>\n",
       "      <td>-0.162255</td>\n",
       "      <td>0.025691</td>\n",
       "      <td>-0.352748</td>\n",
       "    </tr>\n",
       "    <tr>\n",
       "      <th>Occupation</th>\n",
       "      <td>-0.020946</td>\n",
       "      <td>-0.093311</td>\n",
       "      <td>0.001554</td>\n",
       "      <td>0.066642</td>\n",
       "      <td>0.109748</td>\n",
       "      <td>-0.053751</td>\n",
       "      <td>1.000000</td>\n",
       "      <td>-0.075620</td>\n",
       "      <td>0.006779</td>\n",
       "      <td>0.080328</td>\n",
       "      <td>0.025511</td>\n",
       "      <td>0.017979</td>\n",
       "      <td>0.080384</td>\n",
       "      <td>-0.004015</td>\n",
       "      <td>0.075448</td>\n",
       "    </tr>\n",
       "    <tr>\n",
       "      <th>Relationship</th>\n",
       "      <td>-0.263698</td>\n",
       "      <td>-0.065656</td>\n",
       "      <td>0.008922</td>\n",
       "      <td>-0.051097</td>\n",
       "      <td>-0.094145</td>\n",
       "      <td>0.439240</td>\n",
       "      <td>-0.075620</td>\n",
       "      <td>1.000000</td>\n",
       "      <td>-0.116052</td>\n",
       "      <td>-0.582453</td>\n",
       "      <td>-0.057918</td>\n",
       "      <td>-0.061064</td>\n",
       "      <td>-0.248975</td>\n",
       "      <td>-0.011050</td>\n",
       "      <td>-0.250924</td>\n",
       "    </tr>\n",
       "    <tr>\n",
       "      <th>Race</th>\n",
       "      <td>0.028718</td>\n",
       "      <td>0.067466</td>\n",
       "      <td>-0.021278</td>\n",
       "      <td>0.026982</td>\n",
       "      <td>0.031825</td>\n",
       "      <td>-0.063188</td>\n",
       "      <td>0.006779</td>\n",
       "      <td>-0.116052</td>\n",
       "      <td>1.000000</td>\n",
       "      <td>0.087197</td>\n",
       "      <td>0.011143</td>\n",
       "      <td>0.018902</td>\n",
       "      <td>0.041910</td>\n",
       "      <td>0.122043</td>\n",
       "      <td>0.071853</td>\n",
       "    </tr>\n",
       "    <tr>\n",
       "      <th>Sex</th>\n",
       "      <td>0.088832</td>\n",
       "      <td>0.097011</td>\n",
       "      <td>0.026882</td>\n",
       "      <td>-0.021828</td>\n",
       "      <td>0.012256</td>\n",
       "      <td>-0.444441</td>\n",
       "      <td>0.080328</td>\n",
       "      <td>-0.582453</td>\n",
       "      <td>0.087197</td>\n",
       "      <td>1.000000</td>\n",
       "      <td>0.048477</td>\n",
       "      <td>0.045572</td>\n",
       "      <td>0.229312</td>\n",
       "      <td>0.001653</td>\n",
       "      <td>0.215995</td>\n",
       "    </tr>\n",
       "    <tr>\n",
       "      <th>Capital_gain</th>\n",
       "      <td>0.077674</td>\n",
       "      <td>0.056893</td>\n",
       "      <td>0.000437</td>\n",
       "      <td>0.061783</td>\n",
       "      <td>0.122627</td>\n",
       "      <td>-0.065508</td>\n",
       "      <td>0.025511</td>\n",
       "      <td>-0.057918</td>\n",
       "      <td>0.011143</td>\n",
       "      <td>0.048477</td>\n",
       "      <td>1.000000</td>\n",
       "      <td>-0.031614</td>\n",
       "      <td>0.078409</td>\n",
       "      <td>0.008681</td>\n",
       "      <td>0.223333</td>\n",
       "    </tr>\n",
       "    <tr>\n",
       "      <th>Capital_loss</th>\n",
       "      <td>0.057775</td>\n",
       "      <td>0.008703</td>\n",
       "      <td>-0.010259</td>\n",
       "      <td>0.056858</td>\n",
       "      <td>0.079932</td>\n",
       "      <td>-0.059768</td>\n",
       "      <td>0.017979</td>\n",
       "      <td>-0.061064</td>\n",
       "      <td>0.018902</td>\n",
       "      <td>0.045572</td>\n",
       "      <td>-0.031614</td>\n",
       "      <td>1.000000</td>\n",
       "      <td>0.054256</td>\n",
       "      <td>0.009456</td>\n",
       "      <td>0.150523</td>\n",
       "    </tr>\n",
       "    <tr>\n",
       "      <th>Hours_per_week</th>\n",
       "      <td>0.068756</td>\n",
       "      <td>0.055099</td>\n",
       "      <td>-0.018770</td>\n",
       "      <td>0.095853</td>\n",
       "      <td>0.148127</td>\n",
       "      <td>-0.162255</td>\n",
       "      <td>0.080384</td>\n",
       "      <td>-0.248975</td>\n",
       "      <td>0.041910</td>\n",
       "      <td>0.229312</td>\n",
       "      <td>0.078409</td>\n",
       "      <td>0.054256</td>\n",
       "      <td>1.000000</td>\n",
       "      <td>0.006406</td>\n",
       "      <td>0.229690</td>\n",
       "    </tr>\n",
       "    <tr>\n",
       "      <th>Native_country</th>\n",
       "      <td>0.000405</td>\n",
       "      <td>-0.015679</td>\n",
       "      <td>-0.064600</td>\n",
       "      <td>0.097334</td>\n",
       "      <td>0.090376</td>\n",
       "      <td>0.025691</td>\n",
       "      <td>-0.004015</td>\n",
       "      <td>-0.011050</td>\n",
       "      <td>0.122043</td>\n",
       "      <td>0.001653</td>\n",
       "      <td>0.008681</td>\n",
       "      <td>0.009456</td>\n",
       "      <td>0.006406</td>\n",
       "      <td>1.000000</td>\n",
       "      <td>0.023761</td>\n",
       "    </tr>\n",
       "    <tr>\n",
       "      <th>Income</th>\n",
       "      <td>0.234039</td>\n",
       "      <td>0.005920</td>\n",
       "      <td>-0.009481</td>\n",
       "      <td>0.261538</td>\n",
       "      <td>0.335182</td>\n",
       "      <td>-0.352748</td>\n",
       "      <td>0.075448</td>\n",
       "      <td>-0.250924</td>\n",
       "      <td>0.071853</td>\n",
       "      <td>0.215995</td>\n",
       "      <td>0.223333</td>\n",
       "      <td>0.150523</td>\n",
       "      <td>0.229690</td>\n",
       "      <td>0.023761</td>\n",
       "      <td>1.000000</td>\n",
       "    </tr>\n",
       "  </tbody>\n",
       "</table>\n",
       "</div>"
      ],
      "text/plain": [
       "                     Age  Workclass    Fnlwgt  Education  Education_num  \\\n",
       "Age             1.000000   0.067782 -0.076646  -0.019959       0.036527   \n",
       "Workclass       0.067782   1.000000 -0.022240  -0.102910      -0.087960   \n",
       "Fnlwgt         -0.076646  -0.022240  1.000000  -0.040500      -0.043159   \n",
       "Education      -0.019959  -0.102910 -0.040500   1.000000       0.880847   \n",
       "Education_num   0.036527  -0.087960 -0.043159   0.880847       1.000000   \n",
       "Marital_status -0.025397  -0.066633  0.004237  -0.057067      -0.089153   \n",
       "Occupation     -0.020946  -0.093311  0.001554   0.066642       0.109748   \n",
       "Relationship   -0.263698  -0.065656  0.008922  -0.051097      -0.094145   \n",
       "Race            0.028718   0.067466 -0.021278   0.026982       0.031825   \n",
       "Sex             0.088832   0.097011  0.026882  -0.021828       0.012256   \n",
       "Capital_gain    0.077674   0.056893  0.000437   0.061783       0.122627   \n",
       "Capital_loss    0.057775   0.008703 -0.010259   0.056858       0.079932   \n",
       "Hours_per_week  0.068756   0.055099 -0.018770   0.095853       0.148127   \n",
       "Native_country  0.000405  -0.015679 -0.064600   0.097334       0.090376   \n",
       "Income          0.234039   0.005920 -0.009481   0.261538       0.335182   \n",
       "\n",
       "                Marital_status  Occupation  Relationship      Race       Sex  \\\n",
       "Age                  -0.025397   -0.020946     -0.263698  0.028718  0.088832   \n",
       "Workclass            -0.066633   -0.093311     -0.065656  0.067466  0.097011   \n",
       "Fnlwgt                0.004237    0.001554      0.008922 -0.021278  0.026882   \n",
       "Education            -0.057067    0.066642     -0.051097  0.026982 -0.021828   \n",
       "Education_num        -0.089153    0.109748     -0.094145  0.031825  0.012256   \n",
       "Marital_status        1.000000   -0.053751      0.439240 -0.063188 -0.444441   \n",
       "Occupation           -0.053751    1.000000     -0.075620  0.006779  0.080328   \n",
       "Relationship          0.439240   -0.075620      1.000000 -0.116052 -0.582453   \n",
       "Race                 -0.063188    0.006779     -0.116052  1.000000  0.087197   \n",
       "Sex                  -0.444441    0.080328     -0.582453  0.087197  1.000000   \n",
       "Capital_gain         -0.065508    0.025511     -0.057918  0.011143  0.048477   \n",
       "Capital_loss         -0.059768    0.017979     -0.061064  0.018902  0.045572   \n",
       "Hours_per_week       -0.162255    0.080384     -0.248975  0.041910  0.229312   \n",
       "Native_country        0.025691   -0.004015     -0.011050  0.122043  0.001653   \n",
       "Income               -0.352748    0.075448     -0.250924  0.071853  0.215995   \n",
       "\n",
       "                Capital_gain  Capital_loss  Hours_per_week  Native_country  \\\n",
       "Age                 0.077674      0.057775        0.068756        0.000405   \n",
       "Workclass           0.056893      0.008703        0.055099       -0.015679   \n",
       "Fnlwgt              0.000437     -0.010259       -0.018770       -0.064600   \n",
       "Education           0.061783      0.056858        0.095853        0.097334   \n",
       "Education_num       0.122627      0.079932        0.148127        0.090376   \n",
       "Marital_status     -0.065508     -0.059768       -0.162255        0.025691   \n",
       "Occupation          0.025511      0.017979        0.080384       -0.004015   \n",
       "Relationship       -0.057918     -0.061064       -0.248975       -0.011050   \n",
       "Race                0.011143      0.018902        0.041910        0.122043   \n",
       "Sex                 0.048477      0.045572        0.229312        0.001653   \n",
       "Capital_gain        1.000000     -0.031614        0.078409        0.008681   \n",
       "Capital_loss       -0.031614      1.000000        0.054256        0.009456   \n",
       "Hours_per_week      0.078409      0.054256        1.000000        0.006406   \n",
       "Native_country      0.008681      0.009456        0.006406        1.000000   \n",
       "Income              0.223333      0.150523        0.229690        0.023761   \n",
       "\n",
       "                  Income  \n",
       "Age             0.234039  \n",
       "Workclass       0.005920  \n",
       "Fnlwgt         -0.009481  \n",
       "Education       0.261538  \n",
       "Education_num   0.335182  \n",
       "Marital_status -0.352748  \n",
       "Occupation      0.075448  \n",
       "Relationship   -0.250924  \n",
       "Race            0.071853  \n",
       "Sex             0.215995  \n",
       "Capital_gain    0.223333  \n",
       "Capital_loss    0.150523  \n",
       "Hours_per_week  0.229690  \n",
       "Native_country  0.023761  \n",
       "Income          1.000000  "
      ]
     },
     "execution_count": 250,
     "metadata": {},
     "output_type": "execute_result"
    }
   ],
   "source": [
    "df.corr()"
   ]
  },
  {
   "cell_type": "code",
   "execution_count": 251,
   "id": "44af50c7",
   "metadata": {},
   "outputs": [
    {
     "data": {
      "image/png": "[encoded data removed]",
      "text/plain": [
       "<Figure size 3600x2304 with 2 Axes>"
      ]
     },
     "metadata": {
      "needs_background": "light"
     },
     "output_type": "display_data"
    }
   ],
   "source": [
    "corr_mat = df.corr()\n",
    "\n",
    "# Size of the canvasa\n",
    "plt.figure(figsize=[50,32])\n",
    "\n",
    "# plot the correlation matrix\n",
    "sns.heatmap(corr_mat, annot=True)\n",
    "plt.title('Correlation Matrix')\n",
    "plt.show()"
   ]
  },
  {
   "cell_type": "code",
   "execution_count": 252,
   "id": "8cde446e",
   "metadata": {},
   "outputs": [
    {
     "data": {
      "text/html": [
       "<div>\n",
       "<style scoped>\n",
       "    .dataframe tbody tr th:only-of-type {\n",
       "        vertical-align: middle;\n",
       "    }\n",
       "\n",
       "    .dataframe tbody tr th {\n",
       "        vertical-align: top;\n",
       "    }\n",
       "\n",
       "    .dataframe thead th {\n",
       "        text-align: right;\n",
       "    }\n",
       "</style>\n",
       "<table border=\"1\" class=\"dataframe\">\n",
       "  <thead>\n",
       "    <tr style=\"text-align: right;\">\n",
       "      <th></th>\n",
       "      <th>Age</th>\n",
       "      <th>Workclass</th>\n",
       "      <th>Fnlwgt</th>\n",
       "      <th>Education</th>\n",
       "      <th>Education_num</th>\n",
       "      <th>Marital_status</th>\n",
       "      <th>Occupation</th>\n",
       "      <th>Relationship</th>\n",
       "      <th>Race</th>\n",
       "      <th>Sex</th>\n",
       "      <th>Capital_gain</th>\n",
       "      <th>Capital_loss</th>\n",
       "      <th>Hours_per_week</th>\n",
       "      <th>Native_country</th>\n",
       "      <th>Income</th>\n",
       "    </tr>\n",
       "  </thead>\n",
       "  <tbody>\n",
       "    <tr>\n",
       "      <th>Age</th>\n",
       "      <td>1.000000</td>\n",
       "      <td>0.067782</td>\n",
       "      <td>-0.076646</td>\n",
       "      <td>-0.019959</td>\n",
       "      <td>0.036527</td>\n",
       "      <td>-0.025397</td>\n",
       "      <td>-0.020946</td>\n",
       "      <td>-0.263698</td>\n",
       "      <td>0.028718</td>\n",
       "      <td>0.088832</td>\n",
       "      <td>0.077674</td>\n",
       "      <td>0.057775</td>\n",
       "      <td>0.068756</td>\n",
       "      <td>0.000405</td>\n",
       "      <td>0.234039</td>\n",
       "    </tr>\n",
       "    <tr>\n",
       "      <th>Workclass</th>\n",
       "      <td>0.067782</td>\n",
       "      <td>1.000000</td>\n",
       "      <td>-0.022240</td>\n",
       "      <td>-0.102910</td>\n",
       "      <td>-0.087960</td>\n",
       "      <td>-0.066633</td>\n",
       "      <td>-0.093311</td>\n",
       "      <td>-0.065656</td>\n",
       "      <td>0.067466</td>\n",
       "      <td>0.097011</td>\n",
       "      <td>0.056893</td>\n",
       "      <td>0.008703</td>\n",
       "      <td>0.055099</td>\n",
       "      <td>-0.015679</td>\n",
       "      <td>0.005920</td>\n",
       "    </tr>\n",
       "    <tr>\n",
       "      <th>Fnlwgt</th>\n",
       "      <td>-0.076646</td>\n",
       "      <td>-0.022240</td>\n",
       "      <td>1.000000</td>\n",
       "      <td>-0.040500</td>\n",
       "      <td>-0.043159</td>\n",
       "      <td>0.004237</td>\n",
       "      <td>0.001554</td>\n",
       "      <td>0.008922</td>\n",
       "      <td>-0.021278</td>\n",
       "      <td>0.026882</td>\n",
       "      <td>0.000437</td>\n",
       "      <td>-0.010259</td>\n",
       "      <td>-0.018770</td>\n",
       "      <td>-0.064600</td>\n",
       "      <td>-0.009481</td>\n",
       "    </tr>\n",
       "    <tr>\n",
       "      <th>Education</th>\n",
       "      <td>-0.019959</td>\n",
       "      <td>-0.102910</td>\n",
       "      <td>-0.040500</td>\n",
       "      <td>1.000000</td>\n",
       "      <td>0.880847</td>\n",
       "      <td>-0.057067</td>\n",
       "      <td>0.066642</td>\n",
       "      <td>-0.051097</td>\n",
       "      <td>0.026982</td>\n",
       "      <td>-0.021828</td>\n",
       "      <td>0.061783</td>\n",
       "      <td>0.056858</td>\n",
       "      <td>0.095853</td>\n",
       "      <td>0.097334</td>\n",
       "      <td>0.261538</td>\n",
       "    </tr>\n",
       "    <tr>\n",
       "      <th>Education_num</th>\n",
       "      <td>0.036527</td>\n",
       "      <td>-0.087960</td>\n",
       "      <td>-0.043159</td>\n",
       "      <td>0.880847</td>\n",
       "      <td>1.000000</td>\n",
       "      <td>-0.089153</td>\n",
       "      <td>0.109748</td>\n",
       "      <td>-0.094145</td>\n",
       "      <td>0.031825</td>\n",
       "      <td>0.012256</td>\n",
       "      <td>0.122627</td>\n",
       "      <td>0.079932</td>\n",
       "      <td>0.148127</td>\n",
       "      <td>0.090376</td>\n",
       "      <td>0.335182</td>\n",
       "    </tr>\n",
       "    <tr>\n",
       "      <th>Marital_status</th>\n",
       "      <td>-0.025397</td>\n",
       "      <td>-0.066633</td>\n",
       "      <td>0.004237</td>\n",
       "      <td>-0.057067</td>\n",
       "      <td>-0.089153</td>\n",
       "      <td>1.000000</td>\n",
       "      <td>-0.053751</td>\n",
       "      <td>0.439240</td>\n",
       "      <td>-0.063188</td>\n",
       "      <td>-0.444441</td>\n",
       "      <td>-0.065508</td>\n",
       "      <td>-0.059768</td>\n",
       "      <td>-0.162255</td>\n",
       "      <td>0.025691</td>\n",
       "      <td>-0.352748</td>\n",
       "    </tr>\n",
       "    <tr>\n",
       "      <th>Occupation</th>\n",
       "      <td>-0.020946</td>\n",
       "      <td>-0.093311</td>\n",
       "      <td>0.001554</td>\n",
       "      <td>0.066642</td>\n",
       "      <td>0.109748</td>\n",
       "      <td>-0.053751</td>\n",
       "      <td>1.000000</td>\n",
       "      <td>-0.075620</td>\n",
       "      <td>0.006779</td>\n",
       "      <td>0.080328</td>\n",
       "      <td>0.025511</td>\n",
       "      <td>0.017979</td>\n",
       "      <td>0.080384</td>\n",
       "      <td>-0.004015</td>\n",
       "      <td>0.075448</td>\n",
       "    </tr>\n",
       "    <tr>\n",
       "      <th>Relationship</th>\n",
       "      <td>-0.263698</td>\n",
       "      <td>-0.065656</td>\n",
       "      <td>0.008922</td>\n",
       "      <td>-0.051097</td>\n",
       "      <td>-0.094145</td>\n",
       "      <td>0.439240</td>\n",
       "      <td>-0.075620</td>\n",
       "      <td>1.000000</td>\n",
       "      <td>-0.116052</td>\n",
       "      <td>-0.582453</td>\n",
       "      <td>-0.057918</td>\n",
       "      <td>-0.061064</td>\n",
       "      <td>-0.248975</td>\n",
       "      <td>-0.011050</td>\n",
       "      <td>-0.250924</td>\n",
       "    </tr>\n",
       "    <tr>\n",
       "      <th>Race</th>\n",
       "      <td>0.028718</td>\n",
       "      <td>0.067466</td>\n",
       "      <td>-0.021278</td>\n",
       "      <td>0.026982</td>\n",
       "      <td>0.031825</td>\n",
       "      <td>-0.063188</td>\n",
       "      <td>0.006779</td>\n",
       "      <td>-0.116052</td>\n",
       "      <td>1.000000</td>\n",
       "      <td>0.087197</td>\n",
       "      <td>0.011143</td>\n",
       "      <td>0.018902</td>\n",
       "      <td>0.041910</td>\n",
       "      <td>0.122043</td>\n",
       "      <td>0.071853</td>\n",
       "    </tr>\n",
       "    <tr>\n",
       "      <th>Sex</th>\n",
       "      <td>0.088832</td>\n",
       "      <td>0.097011</td>\n",
       "      <td>0.026882</td>\n",
       "      <td>-0.021828</td>\n",
       "      <td>0.012256</td>\n",
       "      <td>-0.444441</td>\n",
       "      <td>0.080328</td>\n",
       "      <td>-0.582453</td>\n",
       "      <td>0.087197</td>\n",
       "      <td>1.000000</td>\n",
       "      <td>0.048477</td>\n",
       "      <td>0.045572</td>\n",
       "      <td>0.229312</td>\n",
       "      <td>0.001653</td>\n",
       "      <td>0.215995</td>\n",
       "    </tr>\n",
       "    <tr>\n",
       "      <th>Capital_gain</th>\n",
       "      <td>0.077674</td>\n",
       "      <td>0.056893</td>\n",
       "      <td>0.000437</td>\n",
       "      <td>0.061783</td>\n",
       "      <td>0.122627</td>\n",
       "      <td>-0.065508</td>\n",
       "      <td>0.025511</td>\n",
       "      <td>-0.057918</td>\n",
       "      <td>0.011143</td>\n",
       "      <td>0.048477</td>\n",
       "      <td>1.000000</td>\n",
       "      <td>-0.031614</td>\n",
       "      <td>0.078409</td>\n",
       "      <td>0.008681</td>\n",
       "      <td>0.223333</td>\n",
       "    </tr>\n",
       "    <tr>\n",
       "      <th>Capital_loss</th>\n",
       "      <td>0.057775</td>\n",
       "      <td>0.008703</td>\n",
       "      <td>-0.010259</td>\n",
       "      <td>0.056858</td>\n",
       "      <td>0.079932</td>\n",
       "      <td>-0.059768</td>\n",
       "      <td>0.017979</td>\n",
       "      <td>-0.061064</td>\n",
       "      <td>0.018902</td>\n",
       "      <td>0.045572</td>\n",
       "      <td>-0.031614</td>\n",
       "      <td>1.000000</td>\n",
       "      <td>0.054256</td>\n",
       "      <td>0.009456</td>\n",
       "      <td>0.150523</td>\n",
       "    </tr>\n",
       "    <tr>\n",
       "      <th>Hours_per_week</th>\n",
       "      <td>0.068756</td>\n",
       "      <td>0.055099</td>\n",
       "      <td>-0.018770</td>\n",
       "      <td>0.095853</td>\n",
       "      <td>0.148127</td>\n",
       "      <td>-0.162255</td>\n",
       "      <td>0.080384</td>\n",
       "      <td>-0.248975</td>\n",
       "      <td>0.041910</td>\n",
       "      <td>0.229312</td>\n",
       "      <td>0.078409</td>\n",
       "      <td>0.054256</td>\n",
       "      <td>1.000000</td>\n",
       "      <td>0.006406</td>\n",
       "      <td>0.229690</td>\n",
       "    </tr>\n",
       "    <tr>\n",
       "      <th>Native_country</th>\n",
       "      <td>0.000405</td>\n",
       "      <td>-0.015679</td>\n",
       "      <td>-0.064600</td>\n",
       "      <td>0.097334</td>\n",
       "      <td>0.090376</td>\n",
       "      <td>0.025691</td>\n",
       "      <td>-0.004015</td>\n",
       "      <td>-0.011050</td>\n",
       "      <td>0.122043</td>\n",
       "      <td>0.001653</td>\n",
       "      <td>0.008681</td>\n",
       "      <td>0.009456</td>\n",
       "      <td>0.006406</td>\n",
       "      <td>1.000000</td>\n",
       "      <td>0.023761</td>\n",
       "    </tr>\n",
       "    <tr>\n",
       "      <th>Income</th>\n",
       "      <td>0.234039</td>\n",
       "      <td>0.005920</td>\n",
       "      <td>-0.009481</td>\n",
       "      <td>0.261538</td>\n",
       "      <td>0.335182</td>\n",
       "      <td>-0.352748</td>\n",
       "      <td>0.075448</td>\n",
       "      <td>-0.250924</td>\n",
       "      <td>0.071853</td>\n",
       "      <td>0.215995</td>\n",
       "      <td>0.223333</td>\n",
       "      <td>0.150523</td>\n",
       "      <td>0.229690</td>\n",
       "      <td>0.023761</td>\n",
       "      <td>1.000000</td>\n",
       "    </tr>\n",
       "  </tbody>\n",
       "</table>\n",
       "</div>"
      ],
      "text/plain": [
       "                     Age  Workclass    Fnlwgt  Education  Education_num  \\\n",
       "Age             1.000000   0.067782 -0.076646  -0.019959       0.036527   \n",
       "Workclass       0.067782   1.000000 -0.022240  -0.102910      -0.087960   \n",
       "Fnlwgt         -0.076646  -0.022240  1.000000  -0.040500      -0.043159   \n",
       "Education      -0.019959  -0.102910 -0.040500   1.000000       0.880847   \n",
       "Education_num   0.036527  -0.087960 -0.043159   0.880847       1.000000   \n",
       "Marital_status -0.025397  -0.066633  0.004237  -0.057067      -0.089153   \n",
       "Occupation     -0.020946  -0.093311  0.001554   0.066642       0.109748   \n",
       "Relationship   -0.263698  -0.065656  0.008922  -0.051097      -0.094145   \n",
       "Race            0.028718   0.067466 -0.021278   0.026982       0.031825   \n",
       "Sex             0.088832   0.097011  0.026882  -0.021828       0.012256   \n",
       "Capital_gain    0.077674   0.056893  0.000437   0.061783       0.122627   \n",
       "Capital_loss    0.057775   0.008703 -0.010259   0.056858       0.079932   \n",
       "Hours_per_week  0.068756   0.055099 -0.018770   0.095853       0.148127   \n",
       "Native_country  0.000405  -0.015679 -0.064600   0.097334       0.090376   \n",
       "Income          0.234039   0.005920 -0.009481   0.261538       0.335182   \n",
       "\n",
       "                Marital_status  Occupation  Relationship      Race       Sex  \\\n",
       "Age                  -0.025397   -0.020946     -0.263698  0.028718  0.088832   \n",
       "Workclass            -0.066633   -0.093311     -0.065656  0.067466  0.097011   \n",
       "Fnlwgt                0.004237    0.001554      0.008922 -0.021278  0.026882   \n",
       "Education            -0.057067    0.066642     -0.051097  0.026982 -0.021828   \n",
       "Education_num        -0.089153    0.109748     -0.094145  0.031825  0.012256   \n",
       "Marital_status        1.000000   -0.053751      0.439240 -0.063188 -0.444441   \n",
       "Occupation           -0.053751    1.000000     -0.075620  0.006779  0.080328   \n",
       "Relationship          0.439240   -0.075620      1.000000 -0.116052 -0.582453   \n",
       "Race                 -0.063188    0.006779     -0.116052  1.000000  0.087197   \n",
       "Sex                  -0.444441    0.080328     -0.582453  0.087197  1.000000   \n",
       "Capital_gain         -0.065508    0.025511     -0.057918  0.011143  0.048477   \n",
       "Capital_loss         -0.059768    0.017979     -0.061064  0.018902  0.045572   \n",
       "Hours_per_week       -0.162255    0.080384     -0.248975  0.041910  0.229312   \n",
       "Native_country        0.025691   -0.004015     -0.011050  0.122043  0.001653   \n",
       "Income               -0.352748    0.075448     -0.250924  0.071853  0.215995   \n",
       "\n",
       "                Capital_gain  Capital_loss  Hours_per_week  Native_country  \\\n",
       "Age                 0.077674      0.057775        0.068756        0.000405   \n",
       "Workclass           0.056893      0.008703        0.055099       -0.015679   \n",
       "Fnlwgt              0.000437     -0.010259       -0.018770       -0.064600   \n",
       "Education           0.061783      0.056858        0.095853        0.097334   \n",
       "Education_num       0.122627      0.079932        0.148127        0.090376   \n",
       "Marital_status     -0.065508     -0.059768       -0.162255        0.025691   \n",
       "Occupation          0.025511      0.017979        0.080384       -0.004015   \n",
       "Relationship       -0.057918     -0.061064       -0.248975       -0.011050   \n",
       "Race                0.011143      0.018902        0.041910        0.122043   \n",
       "Sex                 0.048477      0.045572        0.229312        0.001653   \n",
       "Capital_gain        1.000000     -0.031614        0.078409        0.008681   \n",
       "Capital_loss       -0.031614      1.000000        0.054256        0.009456   \n",
       "Hours_per_week      0.078409      0.054256        1.000000        0.006406   \n",
       "Native_country      0.008681      0.009456        0.006406        1.000000   \n",
       "Income              0.223333      0.150523        0.229690        0.023761   \n",
       "\n",
       "                  Income  \n",
       "Age             0.234039  \n",
       "Workclass       0.005920  \n",
       "Fnlwgt         -0.009481  \n",
       "Education       0.261538  \n",
       "Education_num   0.335182  \n",
       "Marital_status -0.352748  \n",
       "Occupation      0.075448  \n",
       "Relationship   -0.250924  \n",
       "Race            0.071853  \n",
       "Sex             0.215995  \n",
       "Capital_gain    0.223333  \n",
       "Capital_loss    0.150523  \n",
       "Hours_per_week  0.229690  \n",
       "Native_country  0.023761  \n",
       "Income          1.000000  "
      ]
     },
     "execution_count": 252,
     "metadata": {},
     "output_type": "execute_result"
    }
   ],
   "source": [
    "corr_matrix = df.corr()\n",
    "corr_matrix"
   ]
  },
  {
   "cell_type": "code",
   "execution_count": 253,
   "id": "105643f0",
   "metadata": {},
   "outputs": [
    {
     "data": {
      "text/plain": [
       "Income            1.000000\n",
       "Education_num     0.335182\n",
       "Education         0.261538\n",
       "Age               0.234039\n",
       "Hours_per_week    0.229690\n",
       "Capital_gain      0.223333\n",
       "Sex               0.215995\n",
       "Capital_loss      0.150523\n",
       "Occupation        0.075448\n",
       "Race              0.071853\n",
       "Native_country    0.023761\n",
       "Workclass         0.005920\n",
       "Fnlwgt           -0.009481\n",
       "Relationship     -0.250924\n",
       "Marital_status   -0.352748\n",
       "Name: Income, dtype: float64"
      ]
     },
     "execution_count": 253,
     "metadata": {},
     "output_type": "execute_result"
    }
   ],
   "source": [
    "corr_matrix = df.corr()\n",
    "corr_matrix[\"Income\"].sort_values(ascending=False)"
   ]
  },
  {
   "cell_type": "markdown",
   "id": "e307414b",
   "metadata": {},
   "source": [
    "Income is more correlated with Education_num and Education.  However we can take only 1 column out of these 2\n",
    "\n",
    "It is also having good nbond with Age and Capital gain and Sex\n"
   ]
  },
  {
   "cell_type": "markdown",
   "id": "903a732f",
   "metadata": {},
   "source": [
    "Chking data distribution among all the column"
   ]
  },
  {
   "cell_type": "code",
   "execution_count": 254,
   "id": "b97e7e54",
   "metadata": {},
   "outputs": [
    {
     "data": {
      "image/png": "[encoded data removed]",
      "text/plain": [
       "<Figure size 1296x864 with 66 Axes>"
      ]
     },
     "metadata": {
      "needs_background": "light"
     },
     "output_type": "display_data"
    }
   ],
   "source": [
    "df.plot(kind = 'density', subplots=True, layout=(6,11), sharex=False, legend=False, fontsize = 1, figsize=(18,12))\n",
    "plt.show()"
   ]
  },
  {
   "cell_type": "markdown",
   "id": "da1fb8ac",
   "metadata": {},
   "source": [
    "It is evident that most coolumns have skewness"
   ]
  },
  {
   "cell_type": "markdown",
   "id": "98e1729f",
   "metadata": {},
   "source": [
    "Splitting the independent and target variables in x and y before removing the skewness"
   ]
  },
  {
   "cell_type": "code",
   "execution_count": 268,
   "id": "1c69c5cd",
   "metadata": {},
   "outputs": [],
   "source": [
    "x1 = df.drop(\"Income\", axis=1)\n",
    "y1 = df[\"Income\"]"
   ]
  },
  {
   "cell_type": "code",
   "execution_count": 269,
   "id": "cf686185",
   "metadata": {},
   "outputs": [
    {
     "data": {
      "text/plain": [
       "Native_country    -4.162539\n",
       "Race              -2.435332\n",
       "Sex               -0.719244\n",
       "Education         -0.557199\n",
       "Education_num     -0.311630\n",
       "Workclass         -0.139836\n",
       "Occupation         0.114540\n",
       "Hours_per_week     0.227636\n",
       "Age                0.558738\n",
       "Relationship       0.786784\n",
       "Marital_status     0.795162\n",
       "Fnlwgt             1.446972\n",
       "Capital_loss       4.594549\n",
       "Capital_gain      11.953690\n",
       "dtype: float64"
      ]
     },
     "execution_count": 269,
     "metadata": {},
     "output_type": "execute_result"
    }
   ],
   "source": [
    "# Checking skewness\n",
    "x1.skew().sort_values()"
   ]
  },
  {
   "cell_type": "markdown",
   "id": "c06a8246",
   "metadata": {},
   "source": [
    "lets use power trasnform function to remvoe skwness from these columns"
   ]
  },
  {
   "cell_type": "code",
   "execution_count": 270,
   "id": "c5f02f79",
   "metadata": {},
   "outputs": [],
   "source": [
    "from sklearn.preprocessing import power_transform\n",
    "x1_new = power_transform(x1)\n",
    "x1 = pd.DataFrame(x1_new, columns=x1.columns)"
   ]
  },
  {
   "cell_type": "code",
   "execution_count": 271,
   "id": "8c8dd467",
   "metadata": {},
   "outputs": [
    {
     "data": {
      "text/plain": [
       "Capital_loss      4.299511\n",
       "Capital_gain      3.016951\n",
       "Hours_per_week    0.229556\n",
       "Marital_status    0.138593\n",
       "Relationship      0.122917\n",
       "Workclass         0.031561\n",
       "Education_num     0.023885\n",
       "Fnlwgt            0.016914\n",
       "Age              -0.013897\n",
       "Occupation       -0.187152\n",
       "Education        -0.191924\n",
       "Sex              -0.719244\n",
       "Race             -2.010817\n",
       "Native_country   -2.905835\n",
       "dtype: float64"
      ]
     },
     "execution_count": 271,
     "metadata": {},
     "output_type": "execute_result"
    }
   ],
   "source": [
    "x1.skew().sort_values(ascending=False) # Validating that skewness has been removed or not "
   ]
  },
  {
   "cell_type": "code",
   "execution_count": 272,
   "id": "5a07a556",
   "metadata": {},
   "outputs": [
    {
     "data": {
      "text/plain": [
       "True"
      ]
     },
     "execution_count": 272,
     "metadata": {},
     "output_type": "execute_result"
    }
   ],
   "source": [
    "x1.skew()[np.abs(x1.skew())<0.15].all()     # abs is absolute value it remove minuss"
   ]
  },
  {
   "cell_type": "code",
   "execution_count": 273,
   "id": "bae8313f",
   "metadata": {},
   "outputs": [
    {
     "data": {
      "text/plain": [
       "(32560, 14)"
      ]
     },
     "execution_count": 273,
     "metadata": {},
     "output_type": "execute_result"
    }
   ],
   "source": [
    "x1.shape"
   ]
  },
  {
   "cell_type": "markdown",
   "id": "4d0bed5a",
   "metadata": {},
   "source": [
    "Skewness has been removed, now we can proceed wiht further steps."
   ]
  },
  {
   "cell_type": "markdown",
   "id": "1e56c86c",
   "metadata": {},
   "source": [
    "**Checing outliers**"
   ]
  },
  {
   "cell_type": "code",
   "execution_count": 274,
   "id": "83c9bac4",
   "metadata": {},
   "outputs": [
    {
     "data": {
      "image/png": "[encoded data removed]",
      "text/plain": [
       "<Figure size 1440x576 with 1 Axes>"
      ]
     },
     "metadata": {
      "needs_background": "light"
     },
     "output_type": "display_data"
    }
   ],
   "source": [
    "# Plotting boxplot for these columns\n",
    "\n",
    "x1.iloc[1:15].boxplot(figsize=[20,8])\n",
    "plt.subplots_adjust(bottom=0.25)\n",
    "plt.show()"
   ]
  },
  {
   "cell_type": "markdown",
   "id": "e410b55b",
   "metadata": {},
   "source": [
    "Outlier removal"
   ]
  },
  {
   "cell_type": "code",
   "execution_count": 275,
   "id": "3717fcd6",
   "metadata": {},
   "outputs": [
    {
     "data": {
      "text/plain": [
       "(array([    3,     9,    10, ..., 32532, 32550, 32552], dtype=int64),\n",
       " array([13, 12,  8, ...,  8,  8,  8], dtype=int64))"
      ]
     },
     "execution_count": 275,
     "metadata": {},
     "output_type": "execute_result"
    }
   ],
   "source": [
    "from scipy.stats import zscore\n",
    "import numpy as np\n",
    "z = np.abs(zscore(df))\n",
    "\n",
    "threshold = 3\n",
    "np.where(z>3)"
   ]
  },
  {
   "cell_type": "code",
   "execution_count": 276,
   "id": "078d30e3",
   "metadata": {},
   "outputs": [
    {
     "data": {
      "text/html": [
       "<div>\n",
       "<style scoped>\n",
       "    .dataframe tbody tr th:only-of-type {\n",
       "        vertical-align: middle;\n",
       "    }\n",
       "\n",
       "    .dataframe tbody tr th {\n",
       "        vertical-align: top;\n",
       "    }\n",
       "\n",
       "    .dataframe thead th {\n",
       "        text-align: right;\n",
       "    }\n",
       "</style>\n",
       "<table border=\"1\" class=\"dataframe\">\n",
       "  <thead>\n",
       "    <tr style=\"text-align: right;\">\n",
       "      <th></th>\n",
       "      <th>Age</th>\n",
       "      <th>Workclass</th>\n",
       "      <th>Fnlwgt</th>\n",
       "      <th>Education</th>\n",
       "      <th>Education_num</th>\n",
       "      <th>Marital_status</th>\n",
       "      <th>Occupation</th>\n",
       "      <th>Relationship</th>\n",
       "      <th>Race</th>\n",
       "      <th>Sex</th>\n",
       "      <th>Capital_gain</th>\n",
       "      <th>Capital_loss</th>\n",
       "      <th>Hours_per_week</th>\n",
       "      <th>Native_country</th>\n",
       "      <th>Income</th>\n",
       "    </tr>\n",
       "  </thead>\n",
       "  <tbody>\n",
       "    <tr>\n",
       "      <th>0</th>\n",
       "      <td>50</td>\n",
       "      <td>4</td>\n",
       "      <td>83311</td>\n",
       "      <td>13.0</td>\n",
       "      <td>13</td>\n",
       "      <td>0</td>\n",
       "      <td>4</td>\n",
       "      <td>0</td>\n",
       "      <td>4</td>\n",
       "      <td>1</td>\n",
       "      <td>0</td>\n",
       "      <td>0</td>\n",
       "      <td>13</td>\n",
       "      <td>39</td>\n",
       "      <td>0</td>\n",
       "    </tr>\n",
       "    <tr>\n",
       "      <th>1</th>\n",
       "      <td>38</td>\n",
       "      <td>2</td>\n",
       "      <td>215646</td>\n",
       "      <td>8.0</td>\n",
       "      <td>9</td>\n",
       "      <td>2</td>\n",
       "      <td>6</td>\n",
       "      <td>1</td>\n",
       "      <td>4</td>\n",
       "      <td>1</td>\n",
       "      <td>0</td>\n",
       "      <td>0</td>\n",
       "      <td>40</td>\n",
       "      <td>39</td>\n",
       "      <td>0</td>\n",
       "    </tr>\n",
       "    <tr>\n",
       "      <th>2</th>\n",
       "      <td>53</td>\n",
       "      <td>2</td>\n",
       "      <td>234721</td>\n",
       "      <td>6.0</td>\n",
       "      <td>7</td>\n",
       "      <td>0</td>\n",
       "      <td>6</td>\n",
       "      <td>0</td>\n",
       "      <td>2</td>\n",
       "      <td>1</td>\n",
       "      <td>0</td>\n",
       "      <td>0</td>\n",
       "      <td>40</td>\n",
       "      <td>39</td>\n",
       "      <td>0</td>\n",
       "    </tr>\n",
       "    <tr>\n",
       "      <th>4</th>\n",
       "      <td>37</td>\n",
       "      <td>2</td>\n",
       "      <td>284582</td>\n",
       "      <td>14.0</td>\n",
       "      <td>14</td>\n",
       "      <td>0</td>\n",
       "      <td>4</td>\n",
       "      <td>5</td>\n",
       "      <td>4</td>\n",
       "      <td>0</td>\n",
       "      <td>0</td>\n",
       "      <td>0</td>\n",
       "      <td>40</td>\n",
       "      <td>39</td>\n",
       "      <td>0</td>\n",
       "    </tr>\n",
       "    <tr>\n",
       "      <th>5</th>\n",
       "      <td>49</td>\n",
       "      <td>2</td>\n",
       "      <td>160187</td>\n",
       "      <td>4.0</td>\n",
       "      <td>5</td>\n",
       "      <td>0</td>\n",
       "      <td>8</td>\n",
       "      <td>1</td>\n",
       "      <td>2</td>\n",
       "      <td>0</td>\n",
       "      <td>0</td>\n",
       "      <td>0</td>\n",
       "      <td>16</td>\n",
       "      <td>22</td>\n",
       "      <td>0</td>\n",
       "    </tr>\n",
       "    <tr>\n",
       "      <th>...</th>\n",
       "      <td>...</td>\n",
       "      <td>...</td>\n",
       "      <td>...</td>\n",
       "      <td>...</td>\n",
       "      <td>...</td>\n",
       "      <td>...</td>\n",
       "      <td>...</td>\n",
       "      <td>...</td>\n",
       "      <td>...</td>\n",
       "      <td>...</td>\n",
       "      <td>...</td>\n",
       "      <td>...</td>\n",
       "      <td>...</td>\n",
       "      <td>...</td>\n",
       "      <td>...</td>\n",
       "    </tr>\n",
       "    <tr>\n",
       "      <th>32555</th>\n",
       "      <td>27</td>\n",
       "      <td>2</td>\n",
       "      <td>257302</td>\n",
       "      <td>11.0</td>\n",
       "      <td>12</td>\n",
       "      <td>0</td>\n",
       "      <td>13</td>\n",
       "      <td>5</td>\n",
       "      <td>4</td>\n",
       "      <td>0</td>\n",
       "      <td>0</td>\n",
       "      <td>0</td>\n",
       "      <td>38</td>\n",
       "      <td>39</td>\n",
       "      <td>0</td>\n",
       "    </tr>\n",
       "    <tr>\n",
       "      <th>32556</th>\n",
       "      <td>40</td>\n",
       "      <td>2</td>\n",
       "      <td>154374</td>\n",
       "      <td>8.0</td>\n",
       "      <td>9</td>\n",
       "      <td>0</td>\n",
       "      <td>7</td>\n",
       "      <td>0</td>\n",
       "      <td>4</td>\n",
       "      <td>1</td>\n",
       "      <td>0</td>\n",
       "      <td>0</td>\n",
       "      <td>40</td>\n",
       "      <td>39</td>\n",
       "      <td>1</td>\n",
       "    </tr>\n",
       "    <tr>\n",
       "      <th>32557</th>\n",
       "      <td>58</td>\n",
       "      <td>2</td>\n",
       "      <td>151910</td>\n",
       "      <td>8.0</td>\n",
       "      <td>9</td>\n",
       "      <td>3</td>\n",
       "      <td>1</td>\n",
       "      <td>4</td>\n",
       "      <td>4</td>\n",
       "      <td>0</td>\n",
       "      <td>0</td>\n",
       "      <td>0</td>\n",
       "      <td>40</td>\n",
       "      <td>39</td>\n",
       "      <td>0</td>\n",
       "    </tr>\n",
       "    <tr>\n",
       "      <th>32558</th>\n",
       "      <td>22</td>\n",
       "      <td>2</td>\n",
       "      <td>201490</td>\n",
       "      <td>8.0</td>\n",
       "      <td>9</td>\n",
       "      <td>1</td>\n",
       "      <td>1</td>\n",
       "      <td>3</td>\n",
       "      <td>4</td>\n",
       "      <td>1</td>\n",
       "      <td>0</td>\n",
       "      <td>0</td>\n",
       "      <td>20</td>\n",
       "      <td>39</td>\n",
       "      <td>0</td>\n",
       "    </tr>\n",
       "    <tr>\n",
       "      <th>32559</th>\n",
       "      <td>52</td>\n",
       "      <td>4</td>\n",
       "      <td>287927</td>\n",
       "      <td>8.0</td>\n",
       "      <td>9</td>\n",
       "      <td>0</td>\n",
       "      <td>4</td>\n",
       "      <td>5</td>\n",
       "      <td>4</td>\n",
       "      <td>0</td>\n",
       "      <td>15024</td>\n",
       "      <td>0</td>\n",
       "      <td>40</td>\n",
       "      <td>39</td>\n",
       "      <td>1</td>\n",
       "    </tr>\n",
       "  </tbody>\n",
       "</table>\n",
       "<p>27783 rows × 15 columns</p>\n",
       "</div>"
      ],
      "text/plain": [
       "       Age  Workclass  Fnlwgt  Education  Education_num  Marital_status  \\\n",
       "0       50          4   83311       13.0             13               0   \n",
       "1       38          2  215646        8.0              9               2   \n",
       "2       53          2  234721        6.0              7               0   \n",
       "4       37          2  284582       14.0             14               0   \n",
       "5       49          2  160187        4.0              5               0   \n",
       "...    ...        ...     ...        ...            ...             ...   \n",
       "32555   27          2  257302       11.0             12               0   \n",
       "32556   40          2  154374        8.0              9               0   \n",
       "32557   58          2  151910        8.0              9               3   \n",
       "32558   22          2  201490        8.0              9               1   \n",
       "32559   52          4  287927        8.0              9               0   \n",
       "\n",
       "       Occupation  Relationship  Race  Sex  Capital_gain  Capital_loss  \\\n",
       "0               4             0     4    1             0             0   \n",
       "1               6             1     4    1             0             0   \n",
       "2               6             0     2    1             0             0   \n",
       "4               4             5     4    0             0             0   \n",
       "5               8             1     2    0             0             0   \n",
       "...           ...           ...   ...  ...           ...           ...   \n",
       "32555          13             5     4    0             0             0   \n",
       "32556           7             0     4    1             0             0   \n",
       "32557           1             4     4    0             0             0   \n",
       "32558           1             3     4    1             0             0   \n",
       "32559           4             5     4    0         15024             0   \n",
       "\n",
       "       Hours_per_week  Native_country  Income  \n",
       "0                  13              39       0  \n",
       "1                  40              39       0  \n",
       "2                  40              39       0  \n",
       "4                  40              39       0  \n",
       "5                  16              22       0  \n",
       "...               ...             ...     ...  \n",
       "32555              38              39       0  \n",
       "32556              40              39       1  \n",
       "32557              40              39       0  \n",
       "32558              20              39       0  \n",
       "32559              40              39       1  \n",
       "\n",
       "[27783 rows x 15 columns]"
      ]
     },
     "execution_count": 276,
     "metadata": {},
     "output_type": "execute_result"
    }
   ],
   "source": [
    "df_new_z = df[(z<3).all(axis=1)] # extract all the data points which have z value less than 3\n",
    "df_new_z"
   ]
  },
  {
   "cell_type": "code",
   "execution_count": 277,
   "id": "148fddef",
   "metadata": {},
   "outputs": [],
   "source": [
    "data_loss = (32560-27783)/32560*100"
   ]
  },
  {
   "cell_type": "code",
   "execution_count": 278,
   "id": "9647a2c3",
   "metadata": {},
   "outputs": [
    {
     "data": {
      "text/plain": [
       "14.67137592137592"
      ]
     },
     "execution_count": 278,
     "metadata": {},
     "output_type": "execute_result"
    }
   ],
   "source": [
    "data_loss"
   ]
  },
  {
   "cell_type": "markdown",
   "id": "5836ba1d",
   "metadata": {},
   "source": [
    "I lost only 14% data, remaining data is still large enough to make a model"
   ]
  },
  {
   "cell_type": "markdown",
   "id": "114f6630",
   "metadata": {},
   "source": [
    "**Seperating the columns into features and target**"
   ]
  },
  {
   "cell_type": "code",
   "execution_count": 306,
   "id": "946f5923",
   "metadata": {},
   "outputs": [
    {
     "data": {
      "text/plain": [
       "array([[ 8.83812900e-01,  1.97874283e+00, -1.08771724e+00, ...,\n",
       "        -3.72051139e-02, -2.41456099e+00,  1.95661762e-01],\n",
       "       [-1.17166976e-02,  1.31671825e-03,  3.10402476e-01, ...,\n",
       "        -3.72051139e-02,  6.74610750e-03,  1.95661762e-01],\n",
       "       [ 1.10769530e+00,  1.31671825e-03,  5.11929914e-01, ...,\n",
       "        -3.72051139e-02,  6.74610750e-03,  1.95661762e-01],\n",
       "       ...,\n",
       "       [ 1.48083263e+00,  1.31671825e-03, -3.62968574e-01, ...,\n",
       "        -3.72051139e-02,  6.74610750e-03,  1.95661762e-01],\n",
       "       [-1.20575616e+00,  1.31671825e-03,  1.60844290e-01, ...,\n",
       "        -3.72051139e-02, -1.78681470e+00,  1.95661762e-01],\n",
       "       [ 1.03306783e+00,  1.97874283e+00,  1.07405148e+00, ...,\n",
       "        -3.72051139e-02,  6.74610750e-03,  1.95661762e-01]])"
      ]
     },
     "execution_count": 306,
     "metadata": {},
     "output_type": "execute_result"
    }
   ],
   "source": [
    "x = df_new_z.drop('Income', axis=1)\n",
    "\n",
    "from sklearn.preprocessing import StandardScaler\n",
    "sc = StandardScaler()\n",
    "x = sc.fit_transform(x)\n",
    "x"
   ]
  },
  {
   "cell_type": "code",
   "execution_count": 307,
   "id": "88aaf912",
   "metadata": {},
   "outputs": [],
   "source": [
    "y = df_new_z['Income']"
   ]
  },
  {
   "cell_type": "markdown",
   "id": "91b0cd73",
   "metadata": {},
   "source": [
    "#### Now we will proceed to train our model**\n",
    "### Training process begins\n",
    "#### FInding best random_state"
   ]
  },
  {
   "cell_type": "code",
   "execution_count": 308,
   "id": "f7dce561",
   "metadata": {},
   "outputs": [],
   "source": [
    "from sklearn.linear_model import LogisticRegression\n",
    "from sklearn.metrics import accuracy_score\n",
    "from sklearn.metrics import confusion_matrix, classification_report\n",
    "from sklearn.model_selection import train_test_split"
   ]
  },
  {
   "cell_type": "code",
   "execution_count": 309,
   "id": "a7736b0f",
   "metadata": {},
   "outputs": [
    {
     "name": "stdout",
     "output_type": "stream",
     "text": [
      "Best Accuracy is 0.8526183192369984 on Random_state 133\n"
     ]
    }
   ],
   "source": [
    "maxAccu=0        # maximum accuracy\n",
    "maxRS=0          # best random state value for which max accuracy is achieved\n",
    "for i in range(1,200):\n",
    "    x_train, x_test, y_train, y_test = train_test_split(x,y,test_size=.20, random_state=i)\n",
    "    LR = LogisticRegression()\n",
    "    LR.fit(x_train, y_train)\n",
    "    predrf = LR.predict(x_test)\n",
    "    acc=accuracy_score(y_test, predrf)\n",
    "    if acc>maxAccu:\n",
    "        maxAccu=acc\n",
    "        maxRS=i\n",
    "print('Best Accuracy is', maxAccu,  'on Random_state',maxRS)"
   ]
  },
  {
   "cell_type": "markdown",
   "id": "bfaf0118",
   "metadata": {},
   "source": [
    "We have found best random_state value as 190, We will create our train_test split using this random_state"
   ]
  },
  {
   "cell_type": "markdown",
   "id": "70bd1c6a",
   "metadata": {},
   "source": [
    "**Creating train-test split**"
   ]
  },
  {
   "cell_type": "code",
   "execution_count": 310,
   "id": "2f48a2cf",
   "metadata": {},
   "outputs": [],
   "source": [
    "x_train, x_test, y_train, y_test = train_test_split(x,y,test_size=.20, random_state = 184)"
   ]
  },
  {
   "cell_type": "code",
   "execution_count": 311,
   "id": "b6cb7169",
   "metadata": {},
   "outputs": [
    {
     "data": {
      "text/plain": [
       "(22226, 14)"
      ]
     },
     "execution_count": 311,
     "metadata": {},
     "output_type": "execute_result"
    }
   ],
   "source": [
    "x_train.shape"
   ]
  },
  {
   "cell_type": "code",
   "execution_count": 312,
   "id": "5ab7f1dd",
   "metadata": {},
   "outputs": [
    {
     "data": {
      "text/plain": [
       "(5557, 14)"
      ]
     },
     "execution_count": 312,
     "metadata": {},
     "output_type": "execute_result"
    }
   ],
   "source": [
    "x_test.shape"
   ]
  },
  {
   "cell_type": "code",
   "execution_count": 313,
   "id": "5549c696",
   "metadata": {},
   "outputs": [
    {
     "data": {
      "text/plain": [
       "(22226,)"
      ]
     },
     "execution_count": 313,
     "metadata": {},
     "output_type": "execute_result"
    }
   ],
   "source": [
    "y_train.shape"
   ]
  },
  {
   "cell_type": "code",
   "execution_count": 314,
   "id": "af6a2472",
   "metadata": {},
   "outputs": [
    {
     "data": {
      "text/plain": [
       "(5557,)"
      ]
     },
     "execution_count": 314,
     "metadata": {},
     "output_type": "execute_result"
    }
   ],
   "source": [
    "y_test.shape"
   ]
  },
  {
   "cell_type": "markdown",
   "id": "6a2a72bc",
   "metadata": {},
   "source": [
    "### Logistics Regression"
   ]
  },
  {
   "cell_type": "code",
   "execution_count": 315,
   "id": "6dfd51d6",
   "metadata": {},
   "outputs": [
    {
     "name": "stdout",
     "output_type": "stream",
     "text": [
      "accuracy 84.05614540219543\n",
      "[[4029  236]\n",
      " [ 650  642]]\n",
      "              precision    recall  f1-score   support\n",
      "\n",
      "           0       0.86      0.94      0.90      4265\n",
      "           1       0.73      0.50      0.59      1292\n",
      "\n",
      "    accuracy                           0.84      5557\n",
      "   macro avg       0.80      0.72      0.75      5557\n",
      "weighted avg       0.83      0.84      0.83      5557\n",
      "\n"
     ]
    }
   ],
   "source": [
    "from sklearn.linear_model import LogisticRegression\n",
    "\n",
    "lr = LogisticRegression()\n",
    "lr.fit(x_train, y_train)\n",
    "predlr = lr.predict(x_test)\n",
    "\n",
    "print('accuracy', accuracy_score(y_test, predlr)*100)\n",
    "print(confusion_matrix(y_test, predlr))\n",
    "print(classification_report(y_test, predlr))"
   ]
  },
  {
   "cell_type": "markdown",
   "id": "c81ea396",
   "metadata": {},
   "source": [
    "### Decision tree Classifier"
   ]
  },
  {
   "cell_type": "code",
   "execution_count": 316,
   "id": "2ef22617",
   "metadata": {},
   "outputs": [
    {
     "name": "stdout",
     "output_type": "stream",
     "text": [
      "Accuracy 80.2231419830844\n",
      "[[3714  551]\n",
      " [ 548  744]]\n",
      "              precision    recall  f1-score   support\n",
      "\n",
      "           0       0.87      0.87      0.87      4265\n",
      "           1       0.57      0.58      0.58      1292\n",
      "\n",
      "    accuracy                           0.80      5557\n",
      "   macro avg       0.72      0.72      0.72      5557\n",
      "weighted avg       0.80      0.80      0.80      5557\n",
      "\n"
     ]
    }
   ],
   "source": [
    "from sklearn.tree import DecisionTreeClassifier\n",
    "\n",
    "dt = DecisionTreeClassifier()\n",
    "dt.fit(x_train, y_train)\n",
    "preddt  = dt.predict(x_test)\n",
    "\n",
    "print(\"Accuracy\", accuracy_score(y_test, preddt)*100)\n",
    "print(confusion_matrix(y_test, preddt))\n",
    "print(classification_report(y_test, preddt))"
   ]
  },
  {
   "cell_type": "markdown",
   "id": "f8d5ce57",
   "metadata": {},
   "source": [
    "### Random Forest Classifier"
   ]
  },
  {
   "cell_type": "code",
   "execution_count": 317,
   "id": "edc45273",
   "metadata": {},
   "outputs": [
    {
     "name": "stdout",
     "output_type": "stream",
     "text": [
      "Accuracy 84.38006118409214\n",
      "[[3968  297]\n",
      " [ 571  721]]\n",
      "              precision    recall  f1-score   support\n",
      "\n",
      "           0       0.87      0.93      0.90      4265\n",
      "           1       0.71      0.56      0.62      1292\n",
      "\n",
      "    accuracy                           0.84      5557\n",
      "   macro avg       0.79      0.74      0.76      5557\n",
      "weighted avg       0.84      0.84      0.84      5557\n",
      "\n"
     ]
    }
   ],
   "source": [
    "from sklearn.ensemble import RandomForestClassifier\n",
    "\n",
    "rf = RandomForestClassifier()\n",
    "rf.fit(x_train, y_train)\n",
    "predrf = rf.predict(x_test)\n",
    "print(\"Accuracy\", accuracy_score(y_test, predrf)*100)\n",
    "print(confusion_matrix(y_test, predrf))\n",
    "print(classification_report(y_test, predrf))"
   ]
  },
  {
   "cell_type": "markdown",
   "id": "ff76a05c",
   "metadata": {},
   "source": [
    "### SVC"
   ]
  },
  {
   "cell_type": "code",
   "execution_count": 318,
   "id": "c16a3543",
   "metadata": {},
   "outputs": [
    {
     "name": "stdout",
     "output_type": "stream",
     "text": [
      "Accuracy 84.81194889328775\n",
      "[[4081  184]\n",
      " [ 660  632]]\n",
      "              precision    recall  f1-score   support\n",
      "\n",
      "           0       0.86      0.96      0.91      4265\n",
      "           1       0.77      0.49      0.60      1292\n",
      "\n",
      "    accuracy                           0.85      5557\n",
      "   macro avg       0.82      0.72      0.75      5557\n",
      "weighted avg       0.84      0.85      0.83      5557\n",
      "\n"
     ]
    }
   ],
   "source": [
    "from sklearn.svm import SVC\n",
    "svc = SVC()\n",
    "svc.fit(x_train, y_train)\n",
    "\n",
    "ad_pred = svc.predict(x_test)\n",
    "print(\"Accuracy\", accuracy_score(y_test, ad_pred)*100)\n",
    "print(confusion_matrix(y_test, ad_pred))\n",
    "print(classification_report(y_test, ad_pred))"
   ]
  },
  {
   "cell_type": "markdown",
   "id": "0e06a4a7",
   "metadata": {},
   "source": [
    "Logistic Regression, Random Forest, and SVC are producing good accuracy. Now we will check cross validation score as well for overfitting (if exist)"
   ]
  },
  {
   "cell_type": "markdown",
   "id": "750c7d21",
   "metadata": {},
   "source": [
    "### Cross Validation"
   ]
  },
  {
   "cell_type": "code",
   "execution_count": 319,
   "id": "a9e9657f",
   "metadata": {},
   "outputs": [
    {
     "name": "stdout",
     "output_type": "stream",
     "text": [
      "Cross validation score of Logistic Regression model : 0.8402262280057725\n"
     ]
    }
   ],
   "source": [
    "from sklearn.model_selection import cross_val_score\n",
    "\n",
    "scr = cross_val_score(lr, x, y, cv=5)\n",
    "print(\"Cross validation score of Logistic Regression model :\", scr.mean())"
   ]
  },
  {
   "cell_type": "code",
   "execution_count": 320,
   "id": "f839b372",
   "metadata": {},
   "outputs": [
    {
     "name": "stdout",
     "output_type": "stream",
     "text": [
      "Cross validation score of Random Forest model: 0.8507723607412828\n"
     ]
    }
   ],
   "source": [
    "scr = cross_val_score(rf, x, y, cv=5)\n",
    "print(\"Cross validation score of Random Forest model:\", scr.mean())"
   ]
  },
  {
   "cell_type": "code",
   "execution_count": 321,
   "id": "b41fdf39",
   "metadata": {},
   "outputs": [
    {
     "name": "stdout",
     "output_type": "stream",
     "text": [
      "Cross Validation score of SVC model : 0.8508081570497934\n"
     ]
    }
   ],
   "source": [
    "scr = cross_val_score(svc, x, y, cv=5)\n",
    "print(\"Cross Validation score of SVC model :\", scr.mean())"
   ]
  },
  {
   "cell_type": "markdown",
   "id": "4efa6411",
   "metadata": {},
   "source": [
    "RandomForestClassifier is performing better among all so we will continue with RandomForestClassifier"
   ]
  },
  {
   "cell_type": "markdown",
   "id": "32337ebb",
   "metadata": {},
   "source": [
    "### Hyperparameter tuning"
   ]
  },
  {
   "cell_type": "code",
   "execution_count": 322,
   "id": "ee217b62",
   "metadata": {},
   "outputs": [],
   "source": [
    "from sklearn.model_selection import GridSearchCV\n",
    "\n",
    "# Creating parameter list\n",
    "\n",
    "parameters = {'max_features': ['auto', 'sqrt', 'log2'],\n",
    "             'max_depth' : [4,5,6,7,8],\n",
    "             'criterion': ['gini', 'entropy']}"
   ]
  },
  {
   "cell_type": "code",
   "execution_count": 323,
   "id": "3cf2fca3",
   "metadata": {},
   "outputs": [
    {
     "data": {
      "text/plain": [
       "{'criterion': 'gini', 'max_depth': 8, 'max_features': 'auto'}"
      ]
     },
     "execution_count": 323,
     "metadata": {},
     "output_type": "execute_result"
    }
   ],
   "source": [
    "GCV = GridSearchCV(RandomForestClassifier(),parameters,cv=5, scoring=\"accuracy\")\n",
    "GCV.fit(x_train, y_train) # Fitting the data in model\n",
    "GCV.best_params_ # Printing the best parameter found by GridsearchCV"
   ]
  },
  {
   "cell_type": "code",
   "execution_count": 324,
   "id": "78ad9349",
   "metadata": {},
   "outputs": [
    {
     "data": {
      "text/plain": [
       "0.8493791614180313"
      ]
     },
     "execution_count": 324,
     "metadata": {},
     "output_type": "execute_result"
    }
   ],
   "source": [
    "GCV_pred = GCV.best_estimator_.predict(x_test) # predicting with best parameters\n",
    "accuracy_score(y_test, GCV_pred)  # Checking final accuracy"
   ]
  },
  {
   "cell_type": "markdown",
   "id": "c1fa9fc3",
   "metadata": {},
   "source": [
    "### ROC AUC Plot"
   ]
  },
  {
   "cell_type": "code",
   "execution_count": 325,
   "id": "a02f26af",
   "metadata": {},
   "outputs": [
    {
     "data": {
      "image/png": "[encoded data removed]",
      "text/plain": [
       "<Figure size 432x288 with 1 Axes>"
      ]
     },
     "metadata": {
      "needs_background": "light"
     },
     "output_type": "display_data"
    }
   ],
   "source": [
    "from sklearn.metrics import plot_roc_curve\n",
    "plot_roc_curve(GCV.best_estimator_,x_test,y_test)\n",
    "plt.title(\"ROC AUC plot\")\n",
    "plt.show()"
   ]
  },
  {
   "cell_type": "markdown",
   "id": "44796fb4",
   "metadata": {},
   "source": [
    "Final accuracy is 85% and AUC score is 90% which is pretty good"
   ]
  },
  {
   "cell_type": "markdown",
   "id": "75018c2b",
   "metadata": {},
   "source": [
    "### Saving the model in pickle format"
   ]
  },
  {
   "cell_type": "code",
   "execution_count": 327,
   "id": "2465865d",
   "metadata": {},
   "outputs": [
    {
     "data": {
      "text/plain": [
       "['Census_income.pkl']"
      ]
     },
     "execution_count": 327,
     "metadata": {},
     "output_type": "execute_result"
    }
   ],
   "source": [
    "#Pickeling of file or Serialization of a file\n",
    "import joblib\n",
    "joblib.dump(GCV.best_estimator_,\"Census_income.pkl\")"
   ]
  },
  {
   "cell_type": "code",
   "execution_count": null,
   "id": "bf39a82f",
   "metadata": {},
   "outputs": [],
   "source": []
  }
 ],
 "metadata": {
  "kernelspec": {
   "display_name": "Python 3",
   "language": "python",
   "name": "python3"
  },
  "language_info": {
   "codemirror_mode": {
    "name": "ipython",
    "version": 3
   },
   "file_extension": ".py",
   "mimetype": "text/x-python",
   "name": "python",
   "nbconvert_exporter": "python",
   "pygments_lexer": "ipython3",
   "version": "3.8.8"
  }
 },
 "nbformat": 4,
 "nbformat_minor": 5
}
